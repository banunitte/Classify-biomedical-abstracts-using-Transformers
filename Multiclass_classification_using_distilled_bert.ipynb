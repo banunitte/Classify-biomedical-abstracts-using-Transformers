{
  "nbformat": 4,
  "nbformat_minor": 0,
  "metadata": {
    "colab": {
      "name": "Exercise 4.b multiclass classification using distilled bert.ipynb",
      "provenance": [],
      "collapsed_sections": []
    },
    "kernelspec": {
      "name": "python3",
      "display_name": "Python 3"
    },
    "accelerator": "GPU",
    "widgets": {
      "application/vnd.jupyter.widget-state+json": {
        "e5919bbf4f9742baa842cf42ea3558a2": {
          "model_module": "@jupyter-widgets/controls",
          "model_name": "HBoxModel",
          "state": {
            "_view_name": "HBoxView",
            "_dom_classes": [],
            "_model_name": "HBoxModel",
            "_view_module": "@jupyter-widgets/controls",
            "_model_module_version": "1.5.0",
            "_view_count": null,
            "_view_module_version": "1.5.0",
            "box_style": "",
            "layout": "IPY_MODEL_bced0c9b2f954fc98a89c6661c44e201",
            "_model_module": "@jupyter-widgets/controls",
            "children": [
              "IPY_MODEL_6d56299c0e424e588c7b2d216ba50cec",
              "IPY_MODEL_0f6bb83f349b4d4389163b31353ca4ab"
            ]
          }
        },
        "bced0c9b2f954fc98a89c6661c44e201": {
          "model_module": "@jupyter-widgets/base",
          "model_name": "LayoutModel",
          "state": {
            "_view_name": "LayoutView",
            "grid_template_rows": null,
            "right": null,
            "justify_content": null,
            "_view_module": "@jupyter-widgets/base",
            "overflow": null,
            "_model_module_version": "1.2.0",
            "_view_count": null,
            "flex_flow": null,
            "width": null,
            "min_width": null,
            "border": null,
            "align_items": null,
            "bottom": null,
            "_model_module": "@jupyter-widgets/base",
            "top": null,
            "grid_column": null,
            "overflow_y": null,
            "overflow_x": null,
            "grid_auto_flow": null,
            "grid_area": null,
            "grid_template_columns": null,
            "flex": null,
            "_model_name": "LayoutModel",
            "justify_items": null,
            "grid_row": null,
            "max_height": null,
            "align_content": null,
            "visibility": null,
            "align_self": null,
            "height": null,
            "min_height": null,
            "padding": null,
            "grid_auto_rows": null,
            "grid_gap": null,
            "max_width": null,
            "order": null,
            "_view_module_version": "1.2.0",
            "grid_template_areas": null,
            "object_position": null,
            "object_fit": null,
            "grid_auto_columns": null,
            "margin": null,
            "display": null,
            "left": null
          }
        },
        "6d56299c0e424e588c7b2d216ba50cec": {
          "model_module": "@jupyter-widgets/controls",
          "model_name": "FloatProgressModel",
          "state": {
            "_view_name": "ProgressView",
            "style": "IPY_MODEL_a5b33cee544b43e9a84d9624c49620bd",
            "_dom_classes": [],
            "description": "Downloading: 100%",
            "_model_name": "FloatProgressModel",
            "bar_style": "success",
            "max": 213450,
            "_view_module": "@jupyter-widgets/controls",
            "_model_module_version": "1.5.0",
            "value": 213450,
            "_view_count": null,
            "_view_module_version": "1.5.0",
            "orientation": "horizontal",
            "min": 0,
            "description_tooltip": null,
            "_model_module": "@jupyter-widgets/controls",
            "layout": "IPY_MODEL_be9f2178ab6f4bbc9970ec8971461e33"
          }
        },
        "0f6bb83f349b4d4389163b31353ca4ab": {
          "model_module": "@jupyter-widgets/controls",
          "model_name": "HTMLModel",
          "state": {
            "_view_name": "HTMLView",
            "style": "IPY_MODEL_cd66bf9b7003498da46c44575ef5c132",
            "_dom_classes": [],
            "description": "",
            "_model_name": "HTMLModel",
            "placeholder": "​",
            "_view_module": "@jupyter-widgets/controls",
            "_model_module_version": "1.5.0",
            "value": " 213k/213k [00:00&lt;00:00, 1.90MB/s]",
            "_view_count": null,
            "_view_module_version": "1.5.0",
            "description_tooltip": null,
            "_model_module": "@jupyter-widgets/controls",
            "layout": "IPY_MODEL_050866629c4c45a2990424b5c0747293"
          }
        },
        "a5b33cee544b43e9a84d9624c49620bd": {
          "model_module": "@jupyter-widgets/controls",
          "model_name": "ProgressStyleModel",
          "state": {
            "_view_name": "StyleView",
            "_model_name": "ProgressStyleModel",
            "description_width": "initial",
            "_view_module": "@jupyter-widgets/base",
            "_model_module_version": "1.5.0",
            "_view_count": null,
            "_view_module_version": "1.2.0",
            "bar_color": null,
            "_model_module": "@jupyter-widgets/controls"
          }
        },
        "be9f2178ab6f4bbc9970ec8971461e33": {
          "model_module": "@jupyter-widgets/base",
          "model_name": "LayoutModel",
          "state": {
            "_view_name": "LayoutView",
            "grid_template_rows": null,
            "right": null,
            "justify_content": null,
            "_view_module": "@jupyter-widgets/base",
            "overflow": null,
            "_model_module_version": "1.2.0",
            "_view_count": null,
            "flex_flow": null,
            "width": null,
            "min_width": null,
            "border": null,
            "align_items": null,
            "bottom": null,
            "_model_module": "@jupyter-widgets/base",
            "top": null,
            "grid_column": null,
            "overflow_y": null,
            "overflow_x": null,
            "grid_auto_flow": null,
            "grid_area": null,
            "grid_template_columns": null,
            "flex": null,
            "_model_name": "LayoutModel",
            "justify_items": null,
            "grid_row": null,
            "max_height": null,
            "align_content": null,
            "visibility": null,
            "align_self": null,
            "height": null,
            "min_height": null,
            "padding": null,
            "grid_auto_rows": null,
            "grid_gap": null,
            "max_width": null,
            "order": null,
            "_view_module_version": "1.2.0",
            "grid_template_areas": null,
            "object_position": null,
            "object_fit": null,
            "grid_auto_columns": null,
            "margin": null,
            "display": null,
            "left": null
          }
        },
        "cd66bf9b7003498da46c44575ef5c132": {
          "model_module": "@jupyter-widgets/controls",
          "model_name": "DescriptionStyleModel",
          "state": {
            "_view_name": "StyleView",
            "_model_name": "DescriptionStyleModel",
            "description_width": "",
            "_view_module": "@jupyter-widgets/base",
            "_model_module_version": "1.5.0",
            "_view_count": null,
            "_view_module_version": "1.2.0",
            "_model_module": "@jupyter-widgets/controls"
          }
        },
        "050866629c4c45a2990424b5c0747293": {
          "model_module": "@jupyter-widgets/base",
          "model_name": "LayoutModel",
          "state": {
            "_view_name": "LayoutView",
            "grid_template_rows": null,
            "right": null,
            "justify_content": null,
            "_view_module": "@jupyter-widgets/base",
            "overflow": null,
            "_model_module_version": "1.2.0",
            "_view_count": null,
            "flex_flow": null,
            "width": null,
            "min_width": null,
            "border": null,
            "align_items": null,
            "bottom": null,
            "_model_module": "@jupyter-widgets/base",
            "top": null,
            "grid_column": null,
            "overflow_y": null,
            "overflow_x": null,
            "grid_auto_flow": null,
            "grid_area": null,
            "grid_template_columns": null,
            "flex": null,
            "_model_name": "LayoutModel",
            "justify_items": null,
            "grid_row": null,
            "max_height": null,
            "align_content": null,
            "visibility": null,
            "align_self": null,
            "height": null,
            "min_height": null,
            "padding": null,
            "grid_auto_rows": null,
            "grid_gap": null,
            "max_width": null,
            "order": null,
            "_view_module_version": "1.2.0",
            "grid_template_areas": null,
            "object_position": null,
            "object_fit": null,
            "grid_auto_columns": null,
            "margin": null,
            "display": null,
            "left": null
          }
        }
      }
    }
  },
  "cells": [
    {
      "cell_type": "code",
      "metadata": {
        "colab": {
          "base_uri": "https://localhost:8080/"
        },
        "id": "C8j3BBynJFbY",
        "outputId": "bcf42ea7-1a71-41b1-fc72-eb756206f334"
      },
      "source": [
        "from google.colab import drive\n",
        "drive.mount('/content/gdrive',force_remount=True)"
      ],
      "execution_count": null,
      "outputs": [
        {
          "output_type": "stream",
          "text": [
            "Mounted at /content/gdrive\n"
          ],
          "name": "stdout"
        }
      ]
    },
    {
      "cell_type": "markdown",
      "metadata": {
        "id": "Ff3I-ogrX-GJ"
      },
      "source": [
        "Importing Python Libraries and preparing the environment\n",
        "At this step we will be importing the libraries and modules needed to run our script. Libraries are:\n",
        "\n",
        "* Pandas\n",
        "* Pytorch\n",
        "* Pytorch Utils for Dataset and Dataloader\n",
        "* Transformers\n",
        "* DistilledBERT Model and Tokenizer\n"
      ]
    },
    {
      "cell_type": "code",
      "metadata": {
        "colab": {
          "base_uri": "https://localhost:8080/"
        },
        "id": "BBdv40NjJ2gr",
        "outputId": "37c47ca9-3155-49d9-814f-d2eba18ffffa"
      },
      "source": [
        "!pip install transformers"
      ],
      "execution_count": null,
      "outputs": [
        {
          "output_type": "stream",
          "text": [
            "Requirement already satisfied: transformers in /usr/local/lib/python3.6/dist-packages (3.5.1)\n",
            "Requirement already satisfied: packaging in /usr/local/lib/python3.6/dist-packages (from transformers) (20.4)\n",
            "Requirement already satisfied: requests in /usr/local/lib/python3.6/dist-packages (from transformers) (2.23.0)\n",
            "Requirement already satisfied: sacremoses in /usr/local/lib/python3.6/dist-packages (from transformers) (0.0.43)\n",
            "Requirement already satisfied: tokenizers==0.9.3 in /usr/local/lib/python3.6/dist-packages (from transformers) (0.9.3)\n",
            "Requirement already satisfied: protobuf in /usr/local/lib/python3.6/dist-packages (from transformers) (3.12.4)\n",
            "Requirement already satisfied: tqdm>=4.27 in /usr/local/lib/python3.6/dist-packages (from transformers) (4.41.1)\n",
            "Requirement already satisfied: numpy in /usr/local/lib/python3.6/dist-packages (from transformers) (1.18.5)\n",
            "Requirement already satisfied: filelock in /usr/local/lib/python3.6/dist-packages (from transformers) (3.0.12)\n",
            "Requirement already satisfied: sentencepiece==0.1.91 in /usr/local/lib/python3.6/dist-packages (from transformers) (0.1.91)\n",
            "Requirement already satisfied: regex!=2019.12.17 in /usr/local/lib/python3.6/dist-packages (from transformers) (2019.12.20)\n",
            "Requirement already satisfied: dataclasses; python_version < \"3.7\" in /usr/local/lib/python3.6/dist-packages (from transformers) (0.8)\n",
            "Requirement already satisfied: six in /usr/local/lib/python3.6/dist-packages (from packaging->transformers) (1.15.0)\n",
            "Requirement already satisfied: pyparsing>=2.0.2 in /usr/local/lib/python3.6/dist-packages (from packaging->transformers) (2.4.7)\n",
            "Requirement already satisfied: idna<3,>=2.5 in /usr/local/lib/python3.6/dist-packages (from requests->transformers) (2.10)\n",
            "Requirement already satisfied: chardet<4,>=3.0.2 in /usr/local/lib/python3.6/dist-packages (from requests->transformers) (3.0.4)\n",
            "Requirement already satisfied: certifi>=2017.4.17 in /usr/local/lib/python3.6/dist-packages (from requests->transformers) (2020.11.8)\n",
            "Requirement already satisfied: urllib3!=1.25.0,!=1.25.1,<1.26,>=1.21.1 in /usr/local/lib/python3.6/dist-packages (from requests->transformers) (1.24.3)\n",
            "Requirement already satisfied: joblib in /usr/local/lib/python3.6/dist-packages (from sacremoses->transformers) (0.17.0)\n",
            "Requirement already satisfied: click in /usr/local/lib/python3.6/dist-packages (from sacremoses->transformers) (7.1.2)\n",
            "Requirement already satisfied: setuptools in /usr/local/lib/python3.6/dist-packages (from protobuf->transformers) (50.3.2)\n"
          ],
          "name": "stdout"
        }
      ]
    },
    {
      "cell_type": "code",
      "metadata": {
        "id": "k1qDar7dJ6qL"
      },
      "source": [
        "# Importing the libraries needed\n",
        "import pandas as pd\n",
        "import torch\n",
        "import transformers\n",
        "from torch.utils.data import Dataset, DataLoader\n",
        "from transformers import DistilBertModel, DistilBertTokenizer,AdamW\n",
        "import os"
      ],
      "execution_count": null,
      "outputs": []
    },
    {
      "cell_type": "code",
      "metadata": {
        "id": "ik7f6JzvJ9AS"
      },
      "source": [
        "from torch import cuda\n",
        "device = 'cuda' if cuda.is_available() else 'cpu'"
      ],
      "execution_count": null,
      "outputs": []
    },
    {
      "cell_type": "code",
      "metadata": {
        "id": "0pAjJZf6Jwv8",
        "colab": {
          "base_uri": "https://localhost:8080/",
          "height": 66,
          "referenced_widgets": [
            "e5919bbf4f9742baa842cf42ea3558a2",
            "bced0c9b2f954fc98a89c6661c44e201",
            "6d56299c0e424e588c7b2d216ba50cec",
            "0f6bb83f349b4d4389163b31353ca4ab",
            "a5b33cee544b43e9a84d9624c49620bd",
            "be9f2178ab6f4bbc9970ec8971461e33",
            "cd66bf9b7003498da46c44575ef5c132",
            "050866629c4c45a2990424b5c0747293"
          ]
        },
        "outputId": "e31cadbd-5e27-4d8d-cf5e-812d8d32630a"
      },
      "source": [
        "MAX_LEN = 512\n",
        "TRAIN_BATCH_SIZE = 8\n",
        "VALID_BATCH_SIZE = 8\n",
        "EPOCHS = 1\n",
        "LEARNING_RATE = 1e-05\n",
        "tokenizer = DistilBertTokenizer.from_pretrained('distilbert-base-cased')"
      ],
      "execution_count": null,
      "outputs": [
        {
          "output_type": "display_data",
          "data": {
            "application/vnd.jupyter.widget-view+json": {
              "model_id": "e5919bbf4f9742baa842cf42ea3558a2",
              "version_minor": 0,
              "version_major": 2
            },
            "text/plain": [
              "HBox(children=(FloatProgress(value=0.0, description='Downloading', max=213450.0, style=ProgressStyle(descripti…"
            ]
          },
          "metadata": {
            "tags": []
          }
        },
        {
          "output_type": "stream",
          "text": [
            "\n"
          ],
          "name": "stdout"
        }
      ]
    },
    {
      "cell_type": "code",
      "metadata": {
        "id": "5WD1_dR0KBuD"
      },
      "source": [
        "train = pd.read_csv('/content/gdrive/My Drive/lily/train.csv')\n",
        "test = pd.read_csv('/content/gdrive/My Drive/lily/test.csv')"
      ],
      "execution_count": null,
      "outputs": []
    },
    {
      "cell_type": "code",
      "metadata": {
        "colab": {
          "base_uri": "https://localhost:8080/",
          "height": 343
        },
        "id": "4XM_9wvdKr9M",
        "outputId": "47f693a2-2281-4b93-ca7e-df5c30a29d3e"
      },
      "source": [
        "train.sample(10)"
      ],
      "execution_count": null,
      "outputs": [
        {
          "output_type": "execute_result",
          "data": {
            "text/html": [
              "<div>\n",
              "<style scoped>\n",
              "    .dataframe tbody tr th:only-of-type {\n",
              "        vertical-align: middle;\n",
              "    }\n",
              "\n",
              "    .dataframe tbody tr th {\n",
              "        vertical-align: top;\n",
              "    }\n",
              "\n",
              "    .dataframe thead th {\n",
              "        text-align: right;\n",
              "    }\n",
              "</style>\n",
              "<table border=\"1\" class=\"dataframe\">\n",
              "  <thead>\n",
              "    <tr style=\"text-align: right;\">\n",
              "      <th></th>\n",
              "      <th>abstract</th>\n",
              "      <th>categories</th>\n",
              "    </tr>\n",
              "  </thead>\n",
              "  <tbody>\n",
              "    <tr>\n",
              "      <th>12239</th>\n",
              "      <td>Dural arteriovenous fistula (DAVF) of the ante...</td>\n",
              "      <td>4</td>\n",
              "    </tr>\n",
              "    <tr>\n",
              "      <th>16039</th>\n",
              "      <td>Peptide hormone somatostatin and its receptors...</td>\n",
              "      <td>5</td>\n",
              "    </tr>\n",
              "    <tr>\n",
              "      <th>38924</th>\n",
              "      <td>Orthoreoviruses have been associated with dise...</td>\n",
              "      <td>21</td>\n",
              "    </tr>\n",
              "    <tr>\n",
              "      <th>32296</th>\n",
              "      <td>Periostin is a 90-kDa member of the fasciclin-...</td>\n",
              "      <td>16</td>\n",
              "    </tr>\n",
              "    <tr>\n",
              "      <th>31628</th>\n",
              "      <td>Vitamin D deficiency has been implicated in th...</td>\n",
              "      <td>14</td>\n",
              "    </tr>\n",
              "    <tr>\n",
              "      <th>40857</th>\n",
              "      <td>Free radicals produced during cancer radiother...</td>\n",
              "      <td>23</td>\n",
              "    </tr>\n",
              "    <tr>\n",
              "      <th>6881</th>\n",
              "      <td>Given that prolonged exposure to extreme clima...</td>\n",
              "      <td>1</td>\n",
              "    </tr>\n",
              "    <tr>\n",
              "      <th>16464</th>\n",
              "      <td>Wireless capsule endoscopy (WCE) can directly ...</td>\n",
              "      <td>5</td>\n",
              "    </tr>\n",
              "    <tr>\n",
              "      <th>36650</th>\n",
              "      <td>Cell-based therapies to augment endothelial ce...</td>\n",
              "      <td>18</td>\n",
              "    </tr>\n",
              "    <tr>\n",
              "      <th>37864</th>\n",
              "      <td>Evaluation of pediatric obstructive sleep apne...</td>\n",
              "      <td>19</td>\n",
              "    </tr>\n",
              "  </tbody>\n",
              "</table>\n",
              "</div>"
            ],
            "text/plain": [
              "                                                abstract  categories\n",
              "12239  Dural arteriovenous fistula (DAVF) of the ante...           4\n",
              "16039  Peptide hormone somatostatin and its receptors...           5\n",
              "38924  Orthoreoviruses have been associated with dise...          21\n",
              "32296  Periostin is a 90-kDa member of the fasciclin-...          16\n",
              "31628  Vitamin D deficiency has been implicated in th...          14\n",
              "40857  Free radicals produced during cancer radiother...          23\n",
              "6881   Given that prolonged exposure to extreme clima...           1\n",
              "16464  Wireless capsule endoscopy (WCE) can directly ...           5\n",
              "36650  Cell-based therapies to augment endothelial ce...          18\n",
              "37864  Evaluation of pediatric obstructive sleep apne...          19"
            ]
          },
          "metadata": {
            "tags": []
          },
          "execution_count": 20
        }
      ]
    },
    {
      "cell_type": "code",
      "metadata": {
        "colab": {
          "base_uri": "https://localhost:8080/"
        },
        "id": "P63qnVSVL-Oi",
        "outputId": "0cb4df6e-612f-422a-f9bc-fb0820d114cf"
      },
      "source": [
        "train['categories'].unique()"
      ],
      "execution_count": null,
      "outputs": [
        {
          "output_type": "execute_result",
          "data": {
            "text/plain": [
              "array(['Animal Diseases', 'Cardiovascular Diseases',\n",
              "       'Chemically-Induced Disorders', 'Bacterial Infections and Mycoses',\n",
              "       'Congenital Hereditary and Neonatal Diseases and Abnormalities',\n",
              "       'Digestive System Diseases', 'Endocrine System Diseases',\n",
              "       'Eye Diseases',\n",
              "       'Female Urogenital Diseases and Pregnancy Complications',\n",
              "       'Hemic and Lymphatic Diseases', 'Immune System Diseases',\n",
              "       'Male Urogenital Diseases', 'Neoplasms', 'Nervous System Diseases',\n",
              "       'Nutritional and Metabolic Diseases', 'Occupational Diseases',\n",
              "       'Otorhinolaryngologic Diseases', 'Parasitic Diseases',\n",
              "       'Pathological Conditions and Signs and Symptoms',\n",
              "       'Respiratory Tract Diseases', 'Stomatognathic Diseases',\n",
              "       'Virus Diseases', 'Disorders of Environmental Origin',\n",
              "       'Wounds and Injuries', 'Musculoskeletal Diseases',\n",
              "       'Skin and Connective Tissue Diseases'], dtype=object)"
            ]
          },
          "metadata": {
            "tags": []
          },
          "execution_count": 11
        }
      ]
    },
    {
      "cell_type": "code",
      "metadata": {
        "id": "lZPoezSULluc"
      },
      "source": [
        "output_map = {cat:i for i,cat in enumerate(train['categories'].unique())}"
      ],
      "execution_count": null,
      "outputs": []
    },
    {
      "cell_type": "code",
      "metadata": {
        "id": "iQ_SAvvwMPF0"
      },
      "source": [
        "output_map = {'Animal Diseases': 0,\n",
        " 'Bacterial Infections and Mycoses': 3,\n",
        " 'Cardiovascular Diseases': 1,\n",
        " 'Chemically-Induced Disorders': 2,\n",
        " 'Congenital Hereditary and Neonatal Diseases and Abnormalities': 4,\n",
        " 'Digestive System Diseases': 5,\n",
        " 'Disorders of Environmental Origin': 22,\n",
        " 'Endocrine System Diseases': 6,\n",
        " 'Eye Diseases': 7,\n",
        " 'Female Urogenital Diseases and Pregnancy Complications': 8,\n",
        " 'Hemic and Lymphatic Diseases': 9,\n",
        " 'Immune System Diseases': 10,\n",
        " 'Male Urogenital Diseases': 11,\n",
        " 'Musculoskeletal Diseases': 24,\n",
        " 'Neoplasms': 12,\n",
        " 'Nervous System Diseases': 13,\n",
        " 'Nutritional and Metabolic Diseases': 14,\n",
        " 'Occupational Diseases': 15,\n",
        " 'Otorhinolaryngologic Diseases': 16,\n",
        " 'Parasitic Diseases': 17,\n",
        " 'Pathological Conditions and Signs and Symptoms': 18,\n",
        " 'Respiratory Tract Diseases': 19,\n",
        " 'Skin and Connective Tissue Diseases': 25,\n",
        " 'Stomatognathic Diseases': 20,\n",
        " 'Virus Diseases': 21,\n",
        " 'Wounds and Injuries': 23}"
      ],
      "execution_count": null,
      "outputs": []
    },
    {
      "cell_type": "code",
      "metadata": {
        "id": "Rfa3nzYqMRNS"
      },
      "source": [
        "train['categories'] = train['categories'].map(output_map)\n",
        "test['categories'] = test['categories'].map(output_map)"
      ],
      "execution_count": null,
      "outputs": []
    },
    {
      "cell_type": "markdown",
      "metadata": {
        "id": "EqOCUPMEYErA"
      },
      "source": [
        "**Preparing the Dataset and Dataloader**\n",
        "\n",
        "\n",
        "\n",
        "We will start with defining few key variables that will be used later during the training/fine tuning stage. Followed by creation of CustomDataset class - This defines how the text is pre-processed before sending it to the neural network. We will also define the Dataloader that will feed the data in batches to the neural network for suitable training and processing. Dataset and Dataloader are constructs of the PyTorch library for defining and controlling the data pre-processing and its passage to neural network"
      ]
    },
    {
      "cell_type": "markdown",
      "metadata": {
        "id": "JKTZvXD-YJ-5"
      },
      "source": [
        "**Dataloader**\n",
        "\n",
        "\n",
        "* Dataloader is used to for creating training and validation dataloader that load data to the neural network in a defined manner. This is needed because all the data from the dataset cannot be loaded to the memory at once, hence the amount of dataloaded to the memory and then passed to the neural network needs to be controlled.\n",
        "* This control is achieved using the parameters such as batch_size and max_len.\n",
        "* Training and Validation dataloaders are used in the training and validation part of the flow respectively"
      ]
    },
    {
      "cell_type": "code",
      "metadata": {
        "id": "VYMMU95gKP5S"
      },
      "source": [
        "class DistillationBertTrain(Dataset):\n",
        "    def __init__(self,type,tokenizer, max_len):\n",
        "        self.tokenizer = tokenizer\n",
        "        self.max_len = max_len\n",
        "        if type == \"train\":\n",
        "            self.len = len(train)\n",
        "            self.abstract = list(train['abstract'])\n",
        "            self.category = list(train['categories'])\n",
        "        else:\n",
        "            self.len = len(test)\n",
        "            self.abstract = list(test['abstract'])\n",
        "            self.category = list(test['categories'])\n",
        "    def __getitem__(self, index):\n",
        "        input = self.abstract[index]\n",
        "        output = self.category[index]\n",
        "        inputs = self.tokenizer.encode_plus(\n",
        "            input,\n",
        "            None,\n",
        "            add_special_tokens=True,\n",
        "            max_length=self.max_len,\n",
        "            pad_to_max_length=True,\n",
        "            return_token_type_ids=True,\n",
        "            truncation=True\n",
        "        )\n",
        "        ids = inputs['input_ids']\n",
        "        mask = inputs['attention_mask']\n",
        "\n",
        "        return {\n",
        "            'ids': torch.tensor(ids, dtype=torch.long),\n",
        "            'mask': torch.tensor(mask, dtype=torch.long),\n",
        "            'targets': torch.tensor(output, dtype=torch.long)\n",
        "        } \n",
        "    \n",
        "    def __len__(self):\n",
        "        return self.len"
      ],
      "execution_count": null,
      "outputs": []
    },
    {
      "cell_type": "code",
      "metadata": {
        "id": "89tGicIGPpIz"
      },
      "source": [
        "training_set = DistillationBertTrain('train', tokenizer, MAX_LEN)\n",
        "testing_set = DistillationBertTrain('test', tokenizer, MAX_LEN)"
      ],
      "execution_count": null,
      "outputs": []
    },
    {
      "cell_type": "code",
      "metadata": {
        "id": "sr4aqKvPPx6x"
      },
      "source": [
        "\n",
        "train_params = {'batch_size': TRAIN_BATCH_SIZE,\n",
        "                'shuffle': True,\n",
        "                'num_workers': 0\n",
        "                }\n",
        "\n",
        "test_params = {'batch_size': VALID_BATCH_SIZE,\n",
        "                'shuffle': True,\n",
        "                'num_workers': 0\n",
        "                }\n",
        "\n",
        "training_loader = DataLoader(training_set, **train_params)\n",
        "testing_loader = DataLoader(testing_set, **test_params)"
      ],
      "execution_count": null,
      "outputs": []
    },
    {
      "cell_type": "markdown",
      "metadata": {
        "id": "2p89XZzyYR9w"
      },
      "source": [
        "**Creating the Neural Network for Fine Tuning**\n",
        "\n",
        "\n",
        "**Neural Network**\n",
        "* We will be creating a neural network with the DistillBERTClass.\n",
        "* This network will have the DistilBERT Language model followed by a dropout and finally a Linear layer to obtain the final outputs.\n",
        "* The data will be fed to the DistilBERT Language model as defined in the dataset.\n",
        "* Final layer outputs is what will be compared to the rating to determine the accuracy of models prediction.\n",
        "* We will initiate an instance of the network called model. This instance will be used for training and then to save the final trained model for future inference.\n",
        "\n",
        "**Loss Function and Optimizer**\n",
        "\n",
        "\n",
        "* Loss Function and Optimizer and defined in the next cell.\n",
        "* The Loss Function is used the calculate the difference in the output created by the model and the actual output.\n",
        "* Optimizer is used to update the weights of the neural network to improve its performance."
      ]
    },
    {
      "cell_type": "code",
      "metadata": {
        "id": "RUVeAgmPP10S"
      },
      "source": [
        "class DistillBERTClass(torch.nn.Module):\n",
        "    def __init__(self):\n",
        "        super(DistillBERTClass, self).__init__()\n",
        "        self.l1 = DistilBertModel.from_pretrained(\"distilbert-base-uncased\")\n",
        "        self.pre_classifier = torch.nn.Linear(768, 768)\n",
        "        self.dropout = torch.nn.Dropout(0.3)\n",
        "        self.classifier = torch.nn.Linear(768, 26)\n",
        "\n",
        "    def forward(self, input_ids, attention_mask):\n",
        "        output_1 = self.l1(input_ids=input_ids, attention_mask=attention_mask)\n",
        "        hidden_state = output_1[0]\n",
        "        pooler = hidden_state[:, 0]\n",
        "        pooler = self.pre_classifier(pooler)\n",
        "        pooler = torch.nn.ReLU()(pooler)\n",
        "        pooler = self.dropout(pooler)\n",
        "        output = self.classifier(pooler)\n",
        "        return output"
      ],
      "execution_count": null,
      "outputs": []
    },
    {
      "cell_type": "code",
      "metadata": {
        "id": "qg6aawRiQMAy"
      },
      "source": [
        "model = DistillBERTClass()\n",
        "model.load_state_dict(torch.load(output_dir))\n",
        "model.to(device)"
      ],
      "execution_count": null,
      "outputs": []
    },
    {
      "cell_type": "code",
      "metadata": {
        "id": "tLW5_bp9QVRx"
      },
      "source": [
        "optimizer = AdamW(model.parameters(),\n",
        "                  lr = 2e-5, # args.learning_rate - default is 5e-5, our notebook had 2e-5\n",
        "                  eps = 1e-8 # args.adam_epsilon  - default is 1e-8.\n",
        "                )\n",
        "from transformers import get_linear_schedule_with_warmup\n",
        "\n",
        "# Number of training epochs. The BERT authors recommend between 2 and 4. \n",
        "# We chose to run for 4, but we'll see later that this may be over-fitting the\n",
        "# training data.\n",
        "epochs = 10\n",
        "\n",
        "# Total number of training steps is [number of batches] x [number of epochs]. \n",
        "# (Note that this is not the same as the number of training samples).\n",
        "total_steps = len(training_loader) * epochs\n",
        "\n",
        "# Create the learning rate scheduler.\n",
        "scheduler = get_linear_schedule_with_warmup(optimizer, \n",
        "                                            num_warmup_steps = 0, # Default value in run_glue.py\n",
        "                                            num_training_steps = total_steps)"
      ],
      "execution_count": null,
      "outputs": []
    },
    {
      "cell_type": "code",
      "metadata": {
        "id": "lFH5qv7XJ7WS"
      },
      "source": [
        "### save trained model to output_dir\n",
        "output_dir = '/content/gdrive/My Drive/lily/state_dict_model.pt'\n",
        "## load trained optimizer abd schedular to continue training from previous checkpoints\n",
        "optimizer.load_state_dict(torch.load(os.path.join('/content/gdrive/My Drive/lily', 'optimizer.pt')))\n",
        "scheduler.load_state_dict(torch.load(os.path.join('/content/gdrive/My Drive/lily', 'scheduler.pt')))\n",
        "loss_function = torch.nn.CrossEntropyLoss()\n",
        "\n",
        "def calcuate_accu(big_idx, targets):\n",
        "    n_correct = (big_idx==targets).sum().item()\n",
        "    return n_correct"
      ],
      "execution_count": null,
      "outputs": []
    },
    {
      "cell_type": "code",
      "metadata": {
        "id": "aHaLGULFRUEK"
      },
      "source": [
        "def train(epoch):\n",
        "    tr_loss = 0\n",
        "    n_correct = 0\n",
        "    nb_tr_steps = 0\n",
        "    nb_tr_examples = 0\n",
        "    model.train()\n",
        "    for i,data in enumerate(training_loader, 0):\n",
        "        ids = data['ids'].to(device, dtype = torch.long)\n",
        "        mask = data['mask'].to(device, dtype = torch.long)\n",
        "        targets = data['targets'].to(device, dtype = torch.long)\n",
        "\n",
        "        outputs = model(ids, mask)\n",
        "        loss = loss_function(outputs, targets)\n",
        "        tr_loss += loss.item()\n",
        "        big_val, big_idx = torch.max(outputs.data, dim=1)\n",
        "        n_correct += calcuate_accu(big_idx, targets)\n",
        "\n",
        "        nb_tr_steps += 1\n",
        "        nb_tr_examples+=targets.size(0)\n",
        "        \n",
        "        if i%500==0:\n",
        "            loss_step = tr_loss/nb_tr_steps\n",
        "            accu_step = (n_correct*100)/nb_tr_examples \n",
        "            print(f\"Training Loss per {i} steps: {loss_step}\")\n",
        "            print(f\"Training Accuracy per {i} steps: {accu_step}\")\n",
        "\n",
        "        optimizer.zero_grad()\n",
        "        loss.backward()\n",
        "        torch.nn.utils.clip_grad_norm_(model.parameters(), 1.0)\n",
        "        # # When using GPU\n",
        "        optimizer.step()\n",
        "        scheduler.step()\n",
        "    torch.save(model.state_dict(), output_dir)\n",
        "    torch.save(optimizer.state_dict(), os.path.join('/content/gdrive/My Drive/lily', 'optimizer.pt'))\n",
        "    torch.save(scheduler.state_dict(), os.path.join('/content/gdrive/My Drive/lily', 'schedular.pt'))\n",
        "    print(f'The Total Accuracy for Epoch {epoch}: {(n_correct*100)/nb_tr_examples}')\n",
        "    epoch_loss = tr_loss/nb_tr_steps\n",
        "    epoch_accu = (n_correct*100)/nb_tr_examples\n",
        "    print(f\"Training Loss {epoch}: {epoch_loss}\")\n",
        "    print(f\"Training Accuracy {epoch}: {epoch_accu}\")\n",
        "\n",
        "    return"
      ],
      "execution_count": null,
      "outputs": []
    },
    {
      "cell_type": "code",
      "metadata": {
        "id": "ER9o354rUCnh"
      },
      "source": [
        "for epoch in range(epochs):\n",
        "    train(epoch)"
      ],
      "execution_count": null,
      "outputs": []
    },
    {
      "cell_type": "markdown",
      "metadata": {
        "id": "-LQOmgKNYcWh"
      },
      "source": [
        "**Fine Tuning the Model**  \n",
        "\n",
        "\n",
        "\n",
        "After all the effort of loading and preparing the data and datasets, creating the model and defining its loss and optimizer. This is probably the easier steps in the process.\n",
        "\n",
        "Here we define a training function that trains the model on the training dataset created above, specified number of times (EPOCH), An epoch defines how many times the complete data will be passed through the network.\n",
        "\n",
        "Following events happen in this function to fine tune the neural network:\n",
        "\n",
        "* The dataloader passes data to the model based on the batch size.\n",
        "* Subsequent output from the model and the actual category are compared to calculate the loss.\n",
        "* Loss value is used to optimize the weights of the neurons in the network.\n",
        "* After every 500 steps the loss value is printed in the console."
      ]
    }
  ]
}