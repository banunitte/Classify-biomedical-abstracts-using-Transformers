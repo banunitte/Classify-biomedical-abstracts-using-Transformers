{
 "cells": [
  {
   "cell_type": "code",
   "execution_count": null,
   "metadata": {
    "colab": {
     "base_uri": "https://localhost:8080/"
    },
    "id": "D7xe-a2TmMnj",
    "outputId": "78c50f2d-697a-405c-f0d1-5e70d961c77b"
   },
   "outputs": [
    {
     "name": "stdout",
     "output_type": "stream",
     "text": [
      "Mounted at /content/gdrive\n"
     ]
    }
   ],
   "source": [
    "from google.colab import drive\n",
    "drive.mount('/content/gdrive',force_remount=True)"
   ]
  },
  {
   "cell_type": "code",
   "execution_count": null,
   "metadata": {
    "colab": {
     "base_uri": "https://localhost:8080/"
    },
    "id": "VDNQdNT6nv11",
    "outputId": "7c1c3239-ebe9-4b83-90b2-994c3826a332"
   },
   "outputs": [
    {
     "name": "stdout",
     "output_type": "stream",
     "text": [
      "Requirement already satisfied: contractions in /usr/local/lib/python3.6/dist-packages (0.0.25)\n",
      "Requirement already satisfied: textsearch in /usr/local/lib/python3.6/dist-packages (from contractions) (0.0.17)\n",
      "Requirement already satisfied: pyahocorasick in /usr/local/lib/python3.6/dist-packages (from textsearch->contractions) (1.4.0)\n",
      "Requirement already satisfied: Unidecode in /usr/local/lib/python3.6/dist-packages (from textsearch->contractions) (1.1.1)\n"
     ]
    }
   ],
   "source": [
    "!pip install contractions"
   ]
  },
  {
   "cell_type": "code",
   "execution_count": null,
   "metadata": {
    "id": "9xBJd3oznaBs"
   },
   "outputs": [],
   "source": [
    "## import packages\n",
    "import pandas as pd\n",
    "import numpy as np\n",
    "import seaborn as sns\n",
    "import matplotlib.pyplot as plt \n",
    "\n",
    "import contractions\n",
    "from bs4 import BeautifulSoup\n",
    "import numpy as np\n",
    "import re\n",
    "import tqdm\n",
    "import unicodedata\n",
    "import pickle\n",
    "from sklearn.feature_extraction.text import CountVectorizer, TfidfVectorizer\n",
    "from sklearn.model_selection import train_test_split\n",
    "from sklearn.model_selection import cross_val_score\n",
    "from sklearn.model_selection import GridSearchCV\n",
    "from sklearn.ensemble import RandomForestClassifier\n",
    "import nltk\n",
    "from nltk.corpus import stopwords\n",
    "nltk.download('stopwords')\n",
    "stop_words = stopwords.words('english')"
   ]
  },
  {
   "cell_type": "markdown",
   "metadata": {
    "id": "ES067G3FLeBw"
   },
   "source": [
    "Basic Text Pre-processing\n",
    "Steps include the following:\n",
    "\n",
    "\n",
    "*    Remove stopwords\n",
    "*   Fixing contractions\n",
    "*   Removing special characters\n",
    "*   Converting accented characters\n",
    "\n",
    "Note : For some models we don't use any pre-processing like BERT!"
   ]
  },
  {
   "cell_type": "code",
   "execution_count": null,
   "metadata": {
    "id": "_rV1oS5_n1eE"
   },
   "outputs": [],
   "source": [
    "def remove_accented_chars(text):\n",
    "  ## make sure that  characters are converted and standardized into ASCII characters.\n",
    "  ##example — converting é to e.\n",
    "  text = unicodedata.normalize('NFKD', text).encode('ascii', 'ignore').decode('utf-8', 'ignore')\n",
    "  return text\n",
    "\n",
    "def pre_process_corpus(docs):\n",
    "  norm_docs = []\n",
    "  for doc in tqdm.tqdm(docs):\n",
    "    doc = doc.translate(doc.maketrans(\"\\n\\t\\r\", \"   \"))\n",
    "    doc = doc.lower()\n",
    "    doc = remove_accented_chars(doc)\n",
    "    doc = contractions.fix(doc)\n",
    "    # lower case and remove special characters\\whitespaces\n",
    "    doc = re.sub(r'[^a-zA-Z0-9\\s]', '', doc, re.I|re.A)\n",
    "    doc = doc.strip()  \n",
    "    doc = ' '.join([w for w in doc.split() if not w in stop_words])\n",
    "    norm_docs.append(doc)\n",
    "  \n",
    "  return norm_docs"
   ]
  },
  {
   "cell_type": "code",
   "execution_count": null,
   "metadata": {
    "id": "GF9X_77lng1k"
   },
   "outputs": [],
   "source": [
    "## import training and testing dataset\n",
    "train = pd.read_csv('/content/gdrive/My Drive/lily/train.csv')\n",
    "test = pd.read_csv('/content/gdrive/My Drive/lily/test.csv')"
   ]
  },
  {
   "cell_type": "code",
   "execution_count": null,
   "metadata": {
    "id": "yaj9id_fn9xs"
   },
   "outputs": [],
   "source": [
    "###  mapping the each value of Disease category to number\n",
    "output_map = {'Animal Diseases': 0,\n",
    " 'Bacterial Infections and Mycoses': 3,\n",
    " 'Cardiovascular Diseases': 1,\n",
    " 'Chemically-Induced Disorders': 2,\n",
    " 'Congenital Hereditary and Neonatal Diseases and Abnormalities': 4,\n",
    " 'Digestive System Diseases': 5,\n",
    " 'Disorders of Environmental Origin': 22,\n",
    " 'Endocrine System Diseases': 6,\n",
    " 'Eye Diseases': 7,\n",
    " 'Female Urogenital Diseases and Pregnancy Complications': 8,\n",
    " 'Hemic and Lymphatic Diseases': 9,\n",
    " 'Immune System Diseases': 10,\n",
    " 'Male Urogenital Diseases': 11,\n",
    " 'Musculoskeletal Diseases': 24,\n",
    " 'Neoplasms': 12,\n",
    " 'Nervous System Diseases': 13,\n",
    " 'Nutritional and Metabolic Diseases': 14,\n",
    " 'Occupational Diseases': 15,\n",
    " 'Otorhinolaryngologic Diseases': 16,\n",
    " 'Parasitic Diseases': 17,\n",
    " 'Pathological Conditions and Signs and Symptoms': 18,\n",
    " 'Respiratory Tract Diseases': 19,\n",
    " 'Skin and Connective Tissue Diseases': 25,\n",
    " 'Stomatognathic Diseases': 20,\n",
    " 'Virus Diseases': 21,\n",
    " 'Wounds and Injuries': 23}\n",
    "\n",
    "train['categories'] = train['categories'].map(output_map)\n",
    "test['categories'] = test['categories'].map(output_map)"
   ]
  },
  {
   "cell_type": "code",
   "execution_count": null,
   "metadata": {
    "colab": {
     "base_uri": "https://localhost:8080/"
    },
    "id": "FKdTXW_in4j0",
    "outputId": "7926c9f5-4b69-400f-9e2f-3399a52bfca0"
   },
   "outputs": [
    {
     "name": "stderr",
     "output_type": "stream",
     "text": [
      "100%|██████████| 43916/43916 [00:24<00:00, 1818.09it/s]\n",
      "100%|██████████| 10862/10862 [00:05<00:00, 1828.70it/s]"
     ]
    },
    {
     "name": "stdout",
     "output_type": "stream",
     "text": [
      "CPU times: user 29.9 s, sys: 263 ms, total: 30.2 s\n",
      "Wall time: 30.2 s\n"
     ]
    },
    {
     "name": "stderr",
     "output_type": "stream",
     "text": [
      "\n"
     ]
    }
   ],
   "source": [
    "%%time\n",
    "norm_train_reviews = pre_process_corpus(list(train['abstract']))\n",
    "norm_test_reviews = pre_process_corpus(list(test['abstract']))"
   ]
  },
  {
   "cell_type": "code",
   "execution_count": null,
   "metadata": {
    "id": "ilJT7et-oWk8"
   },
   "outputs": [],
   "source": [
    "# build TFIDF features on train abstract\n",
    "tv = TfidfVectorizer(min_df=3,  max_features=None,\n",
    "            ngram_range=(1, 3),\n",
    "            stop_words = 'english')\n",
    "tv_train_features = tv.fit_transform(norm_train_reviews)"
   ]
  },
  {
   "cell_type": "markdown",
   "metadata": {
    "id": "k7YEN81UR4t5"
   },
   "source": [
    "### Building Random Forest classifier"
   ]
  },
  {
   "cell_type": "code",
   "execution_count": null,
   "metadata": {
    "colab": {
     "base_uri": "https://localhost:8080/"
    },
    "id": "EzSpsSL0qTBE",
    "outputId": "bacc73cf-b9dd-4356-841a-b77ec3ba48ee"
   },
   "outputs": [
    {
     "data": {
      "text/plain": [
       "GridSearchCV(cv=5, error_score=nan,\n",
       "             estimator=RandomForestClassifier(bootstrap=True, ccp_alpha=0.0,\n",
       "                                              class_weight=None,\n",
       "                                              criterion='gini', max_depth=None,\n",
       "                                              max_features='auto',\n",
       "                                              max_leaf_nodes=None,\n",
       "                                              max_samples=None,\n",
       "                                              min_impurity_decrease=0.0,\n",
       "                                              min_impurity_split=None,\n",
       "                                              min_samples_leaf=1,\n",
       "                                              min_samples_split=2,\n",
       "                                              min_weight_fraction_leaf=0.0,\n",
       "                                              n_estimators=100, n_jobs=None,\n",
       "                                              oob_score=False, random_state=42,\n",
       "                                              verbose=0, warm_start=False),\n",
       "             iid='deprecated', n_jobs=None,\n",
       "             param_grid={'criterion': ['gini', 'entropy'],\n",
       "                         'max_depth': [4, 5, 6, 7, 8, 9, 10, 12],\n",
       "                         'max_features': ['auto', 'sqrt', 'log2'],\n",
       "                         'n_estimators': [200, 500]},\n",
       "             pre_dispatch='2*n_jobs', refit=True, return_train_score=False,\n",
       "             scoring=None, verbose=0)"
      ]
     },
     "execution_count": 13,
     "metadata": {
      "tags": []
     },
     "output_type": "execute_result"
    }
   ],
   "source": [
    "rfc=RandomForestClassifier(random_state=42)\n",
    "param_grid = { \n",
    "    'n_estimators': [200, 500],\n",
    "    'max_features': ['auto', 'sqrt', 'log2'],\n",
    "    'max_depth' : [4,5,6,7,8,9,10,12],\n",
    "    'criterion' :['gini', 'entropy']\n",
    "}\n",
    "CV_rfc = GridSearchCV(estimator=rfc, param_grid=param_grid, cv= 5)\n",
    "CV_rfc.fit(tv_train_features, np.array(train['categories']))"
   ]
  },
  {
   "cell_type": "code",
   "execution_count": null,
   "metadata": {
    "colab": {
     "base_uri": "https://localhost:8080/"
    },
    "id": "QL8EI5yfrqpW",
    "outputId": "23315c2f-0259-419b-df63-a1409ea4bc92"
   },
   "outputs": [
    {
     "data": {
      "text/plain": [
       "{'criterion': 'gini',\n",
       " 'max_depth': 12,\n",
       " 'max_features': 'auto',\n",
       " 'n_estimators': 500}"
      ]
     },
     "execution_count": 14,
     "metadata": {
      "tags": []
     },
     "output_type": "execute_result"
    }
   ],
   "source": [
    "CV_rfc.best_params_"
   ]
  },
  {
   "cell_type": "code",
   "execution_count": null,
   "metadata": {
    "colab": {
     "base_uri": "https://localhost:8080/"
    },
    "id": "m0C9V8AxgOIp",
    "outputId": "daae9731-e365-415d-bd08-39846ce62956"
   },
   "outputs": [
    {
     "data": {
      "text/plain": [
       "RandomForestClassifier(bootstrap=True, ccp_alpha=0.0, class_weight=None,\n",
       "                       criterion='gini', max_depth=12, max_features='auto',\n",
       "                       max_leaf_nodes=None, max_samples=None,\n",
       "                       min_impurity_decrease=0.0, min_impurity_split=None,\n",
       "                       min_samples_leaf=1, min_samples_split=2,\n",
       "                       min_weight_fraction_leaf=0.0, n_estimators=500,\n",
       "                       n_jobs=None, oob_score=False, random_state=42, verbose=0,\n",
       "                       warm_start=False)"
      ]
     },
     "execution_count": 9,
     "metadata": {
      "tags": []
     },
     "output_type": "execute_result"
    }
   ],
   "source": [
    "rfc=RandomForestClassifier(random_state=42,criterion = 'gini',max_depth = 12,max_features = 'auto',n_estimators=500)\n",
    "rfc.fit(tv_train_features,train['categories'])"
   ]
  },
  {
   "cell_type": "markdown",
   "metadata": {
    "id": "TxA7r9Wx0Z_7"
   },
   "source": [
    "### Evaluating on test dataset"
   ]
  },
  {
   "cell_type": "code",
   "execution_count": null,
   "metadata": {
    "colab": {
     "base_uri": "https://localhost:8080/"
    },
    "id": "CjGbv2ITgkAZ",
    "outputId": "256dbda0-4915-47c8-d6d1-f25831d176c3"
   },
   "outputs": [
    {
     "name": "stdout",
     "output_type": "stream",
     "text": [
      "Accuracy: 47.42%\n"
     ]
    }
   ],
   "source": [
    "from sklearn.metrics import confusion_matrix, classification_report, accuracy_score\n",
    "test_features = tv.transform(norm_test_reviews)\n",
    "predictions = rfc.predict(test_features)\n",
    "print(\"Accuracy: %.2f%%\" % (accuracy_score(test['categories'], predictions)*100))"
   ]
  },
  {
   "cell_type": "code",
   "execution_count": null,
   "metadata": {
    "id": "PA8zZ98q4YSR"
   },
   "outputs": [],
   "source": [
    "from sklearn.metrics import f1_score\n",
    "print(\"macro:\"+ str(f1_score(list(test['categories']), predictions, average='macro')*100))\n",
    "print(\"micro: %.2f%%\" % (f1_score(list(test['categories']), predictions, average='micro')*100))\n",
    "print(\"weigted:\"+ str(f1_score(list(test['categories']), predictions, average='weighted')*100))\n"
   ]
  },
  {
   "cell_type": "markdown",
   "metadata": {
    "id": "p4d2PtG-hY8Z"
   },
   "source": [
    "## Naive bayes"
   ]
  },
  {
   "cell_type": "code",
   "execution_count": null,
   "metadata": {
    "colab": {
     "base_uri": "https://localhost:8080/"
    },
    "id": "oOK9oLYWhe0e",
    "outputId": "a3a74fa0-0b7e-4d6f-a988-fe424a9a8b36"
   },
   "outputs": [
    {
     "data": {
      "text/plain": [
       "MultinomialNB(alpha=1.0, class_prior=None, fit_prior=True)"
      ]
     },
     "execution_count": 13,
     "metadata": {
      "tags": []
     },
     "output_type": "execute_result"
    }
   ],
   "source": [
    "from sklearn.naive_bayes import MultinomialNB\n",
    "nb_model = MultinomialNB()\n",
    "nb_model.fit(tv_train_features,train['categories'])"
   ]
  },
  {
   "cell_type": "code",
   "execution_count": null,
   "metadata": {
    "colab": {
     "base_uri": "https://localhost:8080/"
    },
    "id": "Zh3h3bLbheu1",
    "outputId": "1d2abfc0-def4-4281-ed69-4d491629f709"
   },
   "outputs": [
    {
     "name": "stdout",
     "output_type": "stream",
     "text": [
      "Accuracy: 50.12%\n"
     ]
    }
   ],
   "source": [
    "from sklearn.metrics import confusion_matrix, classification_report, accuracy_score\n",
    "predictions = nb_model.predict(test_features)\n",
    "print(\"Accuracy: %.2f%%\" % (accuracy_score(test['categories'], predictions)*100))"
   ]
  },
  {
   "cell_type": "markdown",
   "metadata": {
    "id": "jEiXFwtdhvFA"
   },
   "source": [
    "## XGBOOST"
   ]
  },
  {
   "cell_type": "code",
   "execution_count": null,
   "metadata": {
    "colab": {
     "base_uri": "https://localhost:8080/"
    },
    "id": "hLQ0fXRiutbf",
    "outputId": "71a50cb2-e01b-478a-d832-c651966b2db3"
   },
   "outputs": [
    {
     "data": {
      "text/plain": [
       "XGBClassifier(base_score=0.5, booster='gbtree', colsample_bylevel=1,\n",
       "              colsample_bynode=1, colsample_bytree=0.8, gamma=0,\n",
       "              learning_rate=0.1, max_delta_step=0, max_depth=5,\n",
       "              min_child_weight=1, missing=None, n_estimators=300, n_jobs=1,\n",
       "              nthread=4, num_class=26, objective='multi:softprob',\n",
       "              random_state=0, reg_alpha=0, reg_lambda=1, scale_pos_weight=1,\n",
       "              seed=27, silent=None, subsample=0.8, verbosity=1)"
      ]
     },
     "execution_count": 9,
     "metadata": {
      "tags": []
     },
     "output_type": "execute_result"
    }
   ],
   "source": [
    "from xgboost.sklearn import XGBClassifier\n",
    "#initial model\n",
    "xgb1 = XGBClassifier(learning_rate=0.1,\n",
    "                    n_estimators=300,\n",
    "                    max_depth=5,\n",
    "                    min_child_weight=1,\n",
    "                    gamma=0,\n",
    "                    subsample=0.8,\n",
    "                    colsample_bytree=0.8,\n",
    "                    objective='multi:softmax',\n",
    "                    nthread=4,\n",
    "                    num_class=26,\n",
    "                    seed=27)\n",
    "xgb1.fit(tv_train_features, train['categories'])"
   ]
  },
  {
   "cell_type": "code",
   "execution_count": null,
   "metadata": {
    "colab": {
     "base_uri": "https://localhost:8080/"
    },
    "id": "r1t0-4Fkyim4",
    "outputId": "fd434717-d5f7-4a81-a4a7-181ff4e4e702"
   },
   "outputs": [
    {
     "name": "stdout",
     "output_type": "stream",
     "text": [
      "Accuracy: 76.63%\n"
     ]
    }
   ],
   "source": [
    "from sklearn.metrics import confusion_matrix, classification_report, accuracy_score\n",
    "test_features = tv.transform(norm_test_reviews)\n",
    "predictions = xgb1.predict(test_features)\n",
    "print(\"Accuracy: %.2f%%\" % (accuracy_score(test['categories'], predictions)*100))"
   ]
  },
  {
   "cell_type": "markdown",
   "metadata": {
    "id": "OyaX98gbSUQ4"
   },
   "source": [
    "## Best performing model : xgboost\n",
    "## Accuracy : 76.63 %\n",
    "## f1-score(micro) : 76%"
   ]
  },
  {
   "cell_type": "markdown",
   "metadata": {
    "id": "lgTHW2DRWQuw"
   },
   "source": [
    "#### Out of 10862 obersvations 8255 test data points are correctly predicted. error rate is 24 %"
   ]
  },
  {
   "cell_type": "markdown",
   "metadata": {
    "id": "VbkPqofAUFJ5"
   },
   "source": [
    "### why xgboost?\n",
    "##### XGBoost is a scalable and accurate implementation of gradient boosting algorith and its Really fast when compared to other implementations of gradient boosting.\n",
    "##### The evidence is that it is the go-to algorithm for competition winners on the Kaggle competitive data science platform.\n",
    "##### works well for imbalanced dataset\n",
    "##### When in doubt, use xgboost.it works well in almost every cases\n"
   ]
  }
 ],
 "metadata": {
  "colab": {
   "collapsed_sections": [],
   "name": "Exercise 3.ipynb",
   "provenance": []
  },
  "kernelspec": {
   "display_name": "Python 3",
   "language": "python",
   "name": "python3"
  },
  "language_info": {
   "codemirror_mode": {
    "name": "ipython",
    "version": 3
   },
   "file_extension": ".py",
   "mimetype": "text/x-python",
   "name": "python",
   "nbconvert_exporter": "python",
   "pygments_lexer": "ipython3",
   "version": "3.8.3"
  }
 },
 "nbformat": 4,
 "nbformat_minor": 1
}
