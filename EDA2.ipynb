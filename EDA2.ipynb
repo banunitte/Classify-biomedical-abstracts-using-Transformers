{
 "cells": [
  {
   "cell_type": "markdown",
   "metadata": {},
   "source": [
    "## This notebook is used for loading extracted json files, preprocess it  and store them  into dataframes"
   ]
  },
  {
   "cell_type": "code",
   "execution_count": null,
   "metadata": {},
   "outputs": [],
   "source": [
    "## load packages\n",
    "import json\n",
    "from os import listdir\n",
    "import os\n",
    "from os.path import isfile, join\n",
    "import pandas as pd"
   ]
  },
  {
   "cell_type": "code",
   "execution_count": 2,
   "metadata": {},
   "outputs": [],
   "source": [
    "## train and test file location\n",
    "train_path = 'C:/Users/win10/Downloads/UVigoMED/UVigoMED/single_label/train/'\n",
    "test_path = 'C:/Users/win10/Downloads/UVigoMED/UVigoMED/single_label/test/'"
   ]
  },
  {
   "cell_type": "code",
   "execution_count": 3,
   "metadata": {},
   "outputs": [],
   "source": [
    "train_abstract = []\n",
    "tran_category = []\n",
    "## list all the training json files\n",
    "train_files = listdir(train_path)"
   ]
  },
  {
   "cell_type": "code",
   "execution_count": 4,
   "metadata": {},
   "outputs": [
    {
     "data": {
      "text/plain": [
       "43979"
      ]
     },
     "execution_count": 4,
     "metadata": {},
     "output_type": "execute_result"
    }
   ],
   "source": [
    "len(train_files)"
   ]
  },
  {
   "cell_type": "markdown",
   "metadata": {},
   "source": [
    "### Sanity check"
   ]
  },
  {
   "cell_type": "code",
   "execution_count": 7,
   "metadata": {},
   "outputs": [
    {
     "data": {
      "text/plain": [
       "{'id': 938,\n",
       " 'title': '[Study on medical pattern of traditional Chinese medicine and western medicine diagnosis and treatment of hypertension patients in 30 034 cases in real world].',\n",
       " 'abstract': \"Select patients diagnosed of hypertension in the first place in 16 hospitals and the patients were described by association rules analysis and distribution for the analysis in the study,in order to understand the information of diagnosis and treatment in hypertension patients in real world. The information include age, gender, admission condition, inpatient department, hospitalization expenses, western medicine comorbidities, the traditional Chinese medicine (TCM) syndrome and the medicine. The average age of patients was 64 years in the study. The proportion of men to women about 1. 10: 1. Admission condition is critical for about 10.12% of the total and more concentrated in the cardiovascular department. Hospital stay ranged from 8 to 14 d. Inpatients with medical insurance is 62.93%. Total hospitalization cost distribution most is the 5 000-10 000 RMB. Hypertension complicated with coronary heart disease, blood lipoprotein disorder disease; phlegm and blood stasis and Yin deficiency of liver and kidney are the most in TCM syndrome type. Promoting blood circulation and removing blood stasis is the major in Chinese medicine treatment. Western medicine treatment basically conforms to the guidelines. The most antihypertensive drugs is calcium antagonistst, accounting for about 81.2% of the total number. Class ACEI, class ARB, beta blockers, diuretics class are accounted for 43.0%, 43.4%, 42.4%, 42.4%, fixed compound is only 2 393, accounting for about 8%. the total frequency of five classes of antihypertensive drugs is 78 206 times. The principal conclusions of this analysis are as follows: the elderly people is the most in hypertension, more men than women; medical insurance is the majority type in hospitalization cost; nearly half of the population is combined with coronary heart disease; phlegm and blood stasis and yin deficiency of liver and kidney are the most in TCM syndrome type; western medicine treatment basically conforms to the guidelines. Combination therapy is more, less fixed compound preparation in western medicine. Chinese medicine is mainly to promoting blood circulation. Suggesting that the clinical treatment in strict blood pressure and at the same time, pay attention to combination therapy and the use of fixed compound preparation,it's useful to control the blood pressure better. Combined with traditional Chinese medicine and resolving phlegm and removing blood stasis, reduce the target organ damage, reduce complications, the prevention and control work of hypertension in China still faces enormous challenges at present. The result provides reference information for clinical medicine and medical research.\",\n",
       " 'date': '2014-12-23',\n",
       " 'categories': 'Cardiovascular Diseases',\n",
       " 'split': 'train',\n",
       " 'url': 'http://www.ncbi.nlm.nih.gov/pubmed/25532374',\n",
       " 'annotations': [{'name': 'Traditional Chinese medicine',\n",
       "   'weight': 0.908084,\n",
       "   'wikipedia_article': 'http://en.wikipedia.org/wiki/Traditional_Chinese_medicine'},\n",
       "  {'name': 'Calcium',\n",
       "   'weight': 0.816042,\n",
       "   'wikipedia_article': 'http://en.wikipedia.org/wiki/Calcium'},\n",
       "  {'name': 'Hypertension',\n",
       "   'weight': 0.812713,\n",
       "   'wikipedia_article': 'http://en.wikipedia.org/wiki/Hypertension'},\n",
       "  {'name': 'Medical research',\n",
       "   'weight': 0.801843,\n",
       "   'wikipedia_article': 'http://en.wikipedia.org/wiki/Medical_research'},\n",
       "  {'name': 'Drug',\n",
       "   'weight': 0.795018,\n",
       "   'wikipedia_article': 'http://en.wikipedia.org/wiki/Drug'},\n",
       "  {'name': 'Heart disease',\n",
       "   'weight': 0.787492,\n",
       "   'wikipedia_article': 'http://en.wikipedia.org/wiki/Heart_disease'},\n",
       "  {'name': 'Coronary disease',\n",
       "   'weight': 0.785509,\n",
       "   'wikipedia_article': 'http://en.wikipedia.org/wiki/Coronary_disease'},\n",
       "  {'name': 'Antihypertensive drug',\n",
       "   'weight': 0.785321,\n",
       "   'wikipedia_article': 'http://en.wikipedia.org/wiki/Antihypertensive_drug'},\n",
       "  {'name': 'Diuretic',\n",
       "   'weight': 0.768171,\n",
       "   'wikipedia_article': 'http://en.wikipedia.org/wiki/Diuretic'},\n",
       "  {'name': 'ACE inhibitor',\n",
       "   'weight': 0.748506,\n",
       "   'wikipedia_article': 'http://en.wikipedia.org/wiki/ACE_inhibitor'},\n",
       "  {'name': 'Liver',\n",
       "   'weight': 0.740492,\n",
       "   'wikipedia_article': 'http://en.wikipedia.org/wiki/Liver'},\n",
       "  {'name': 'Coronary circulation',\n",
       "   'weight': 0.734391,\n",
       "   'wikipedia_article': 'http://en.wikipedia.org/wiki/Coronary_circulation'},\n",
       "  {'name': 'Kidney',\n",
       "   'weight': 0.729526,\n",
       "   'wikipedia_article': 'http://en.wikipedia.org/wiki/Kidney'},\n",
       "  {'name': 'Blood pressure',\n",
       "   'weight': 0.729526,\n",
       "   'wikipedia_article': 'http://en.wikipedia.org/wiki/Blood_pressure'},\n",
       "  {'name': 'Blood',\n",
       "   'weight': 0.72904,\n",
       "   'wikipedia_article': 'http://en.wikipedia.org/wiki/Blood'},\n",
       "  {'name': 'Medicine',\n",
       "   'weight': 0.726843,\n",
       "   'wikipedia_article': 'http://en.wikipedia.org/wiki/Medicine'},\n",
       "  {'name': 'Diagnosis',\n",
       "   'weight': 0.723286,\n",
       "   'wikipedia_article': 'http://en.wikipedia.org/wiki/Diagnosis'},\n",
       "  {'name': 'Old age',\n",
       "   'weight': 0.716476,\n",
       "   'wikipedia_article': 'http://en.wikipedia.org/wiki/Old_age'},\n",
       "  {'name': 'Disease',\n",
       "   'weight': 0.701843,\n",
       "   'wikipedia_article': 'http://en.wikipedia.org/wiki/Disease'},\n",
       "  {'name': 'Therapy',\n",
       "   'weight': 0.701843,\n",
       "   'wikipedia_article': 'http://en.wikipedia.org/wiki/Therapy'},\n",
       "  {'name': 'Beta blocker',\n",
       "   'weight': 0.692276,\n",
       "   'wikipedia_article': 'http://en.wikipedia.org/wiki/Beta_blocker'},\n",
       "  {'name': 'Circulatory system',\n",
       "   'weight': 0.689906,\n",
       "   'wikipedia_article': 'http://en.wikipedia.org/wiki/Circulatory_system'},\n",
       "  {'name': 'Heart',\n",
       "   'weight': 0.689867,\n",
       "   'wikipedia_article': 'http://en.wikipedia.org/wiki/Heart'},\n",
       "  {'name': 'Comorbidity',\n",
       "   'weight': 0.68318,\n",
       "   'wikipedia_article': 'http://en.wikipedia.org/wiki/Comorbidity'},\n",
       "  {'name': 'Syndrome',\n",
       "   'weight': 0.680879,\n",
       "   'wikipedia_article': 'http://en.wikipedia.org/wiki/Syndrome'},\n",
       "  {'name': 'Lipoprotein',\n",
       "   'weight': 0.652371,\n",
       "   'wikipedia_article': 'http://en.wikipedia.org/wiki/Lipoprotein'},\n",
       "  {'name': 'Organ (anatomy)',\n",
       "   'weight': 0.645183,\n",
       "   'wikipedia_article': 'http://en.wikipedia.org/wiki/Organ_(anatomy)'},\n",
       "  {'name': 'Phlegm',\n",
       "   'weight': 0.604645,\n",
       "   'wikipedia_article': 'http://en.wikipedia.org/wiki/Phlegm'},\n",
       "  {'name': 'Health insurance',\n",
       "   'weight': 0.599344,\n",
       "   'wikipedia_article': 'http://en.wikipedia.org/wiki/Health_insurance'},\n",
       "  {'name': 'China',\n",
       "   'weight': 0.527438,\n",
       "   'wikipedia_article': 'http://en.wikipedia.org/wiki/China'},\n",
       "  {'name': 'Preventive medicine',\n",
       "   'weight': 0.513143,\n",
       "   'wikipedia_article': 'http://en.wikipedia.org/wiki/Preventive_medicine'},\n",
       "  {'name': 'Complication (medicine)',\n",
       "   'weight': 0.482755,\n",
       "   'wikipedia_article': 'http://en.wikipedia.org/wiki/Complication_(medicine)'},\n",
       "  {'name': 'Yin and yang',\n",
       "   'weight': 0.461856,\n",
       "   'wikipedia_article': 'http://en.wikipedia.org/wiki/Yin_and_yang'},\n",
       "  {'name': 'Hospital',\n",
       "   'weight': 0.461191,\n",
       "   'wikipedia_article': 'http://en.wikipedia.org/wiki/Hospital'},\n",
       "  {'name': 'Lesion',\n",
       "   'weight': 0.410982,\n",
       "   'wikipedia_article': 'http://en.wikipedia.org/wiki/Lesion'},\n",
       "  {'name': 'Research',\n",
       "   'weight': 0.318411,\n",
       "   'wikipedia_article': 'http://en.wikipedia.org/wiki/Research'},\n",
       "  {'name': 'Chemical compound',\n",
       "   'weight': 0.259055,\n",
       "   'wikipedia_article': 'http://en.wikipedia.org/wiki/Chemical_compound'},\n",
       "  {'name': 'Woman',\n",
       "   'weight': 0.258979,\n",
       "   'wikipedia_article': 'http://en.wikipedia.org/wiki/Woman'},\n",
       "  {'name': 'Insurance',\n",
       "   'weight': 0.25521,\n",
       "   'wikipedia_article': 'http://en.wikipedia.org/wiki/Insurance'},\n",
       "  {'name': 'Gender',\n",
       "   'weight': 0.221605,\n",
       "   'wikipedia_article': 'http://en.wikipedia.org/wiki/Gender'},\n",
       "  {'name': 'Angiotensin II receptor antagonist',\n",
       "   'weight': 0.204516,\n",
       "   'wikipedia_article': 'http://en.wikipedia.org/wiki/Angiotensin_II_receptor_antagonist'},\n",
       "  {'name': 'Inpatient',\n",
       "   'weight': 0.132498,\n",
       "   'wikipedia_article': 'http://en.wikipedia.org/wiki/Inpatient'},\n",
       "  {'name': 'Combination therapy',\n",
       "   'weight': 0.11593,\n",
       "   'wikipedia_article': 'http://en.wikipedia.org/wiki/Combination_therapy'},\n",
       "  {'name': 'Pressure',\n",
       "   'weight': 0.107046,\n",
       "   'wikipedia_article': 'http://en.wikipedia.org/wiki/Pressure'},\n",
       "  {'name': 'Western world',\n",
       "   'weight': 0.0570981,\n",
       "   'wikipedia_article': 'http://en.wikipedia.org/wiki/Western_world'},\n",
       "  {'name': 'Frequency',\n",
       "   'weight': 0.0397094,\n",
       "   'wikipedia_article': 'http://en.wikipedia.org/wiki/Frequency'},\n",
       "  {'name': 'Vitamin B6',\n",
       "   'weight': 0.0339217,\n",
       "   'wikipedia_article': 'http://en.wikipedia.org/wiki/Vitamin_B6'},\n",
       "  {'name': 'Order (biology)',\n",
       "   'weight': 0.0332387,\n",
       "   'wikipedia_article': 'http://en.wikipedia.org/wiki/Order_(biology)'},\n",
       "  {'name': 'Population',\n",
       "   'weight': 0.0279596,\n",
       "   'wikipedia_article': 'http://en.wikipedia.org/wiki/Population'},\n",
       "  {'name': 'Analytical chemistry',\n",
       "   'weight': 0.0168623,\n",
       "   'wikipedia_article': 'http://en.wikipedia.org/wiki/Analytical_chemistry'},\n",
       "  {'name': 'Beta decay',\n",
       "   'weight': 0.0168623,\n",
       "   'wikipedia_article': 'http://en.wikipedia.org/wiki/Beta_decay'},\n",
       "  {'name': 'Information technology',\n",
       "   'weight': 0.0168623,\n",
       "   'wikipedia_article': 'http://en.wikipedia.org/wiki/Information_technology'},\n",
       "  {'name': 'Class (biology)',\n",
       "   'weight': 0.0168623,\n",
       "   'wikipedia_article': 'http://en.wikipedia.org/wiki/Class_(biology)'},\n",
       "  {'name': 'Association (statistics)',\n",
       "   'weight': 0.0168623,\n",
       "   'wikipedia_article': 'http://en.wikipedia.org/wiki/Association_(statistics)'},\n",
       "  {'name': 'Dean (education)',\n",
       "   'weight': 0.0168623,\n",
       "   'wikipedia_article': 'http://en.wikipedia.org/wiki/Dean_(education)'},\n",
       "  {'name': 'Stasis (medicine)',\n",
       "   'weight': 0.0168623,\n",
       "   'wikipedia_article': 'http://en.wikipedia.org/wiki/Stasis_(medicine)'},\n",
       "  {'name': 'Distribution (pharmacology)',\n",
       "   'weight': 0.0168623,\n",
       "   'wikipedia_article': 'http://en.wikipedia.org/wiki/Distribution_(pharmacology)'},\n",
       "  {'name': 'Accountancy',\n",
       "   'weight': 0.0147415,\n",
       "   'wikipedia_article': 'http://en.wikipedia.org/wiki/Accountancy'},\n",
       "  {'name': 'Reality',\n",
       "   'weight': 0.0147415,\n",
       "   'wikipedia_article': 'http://en.wikipedia.org/wiki/Reality'},\n",
       "  {'name': 'Clinical psychology',\n",
       "   'weight': 0.0147415,\n",
       "   'wikipedia_article': 'http://en.wikipedia.org/wiki/Clinical_psychology'},\n",
       "  {'name': 'Type species',\n",
       "   'weight': 0.0147415,\n",
       "   'wikipedia_article': 'http://en.wikipedia.org/wiki/Type_species'}]}"
      ]
     },
     "execution_count": 7,
     "metadata": {},
     "output_type": "execute_result"
    }
   ],
   "source": [
    "with open('C:/Users/win10/Downloads/UVigoMED/UVigoMED/single_label/train/938.json') as f:\n",
    "  data = json.load(f)\n",
    "data"
   ]
  },
  {
   "cell_type": "code",
   "execution_count": 8,
   "metadata": {},
   "outputs": [
    {
     "data": {
      "text/plain": [
       "dict_keys(['id', 'title', 'abstract', 'date', 'categories', 'split', 'url', 'annotations'])"
      ]
     },
     "execution_count": 8,
     "metadata": {},
     "output_type": "execute_result"
    }
   ],
   "source": [
    "## extracting key information from josn file\n",
    "data.keys()"
   ]
  },
  {
   "cell_type": "code",
   "execution_count": 5,
   "metadata": {},
   "outputs": [],
   "source": [
    "### load json files and store them in list\n",
    "for file in train_files:\n",
    "    try:\n",
    "        with open(train_path+file,encoding='utf8') as f:\n",
    "            data = json.loads(f.read())\n",
    "        try:\n",
    "            train_abstract.append(data['abstract'])\n",
    "        except:\n",
    "            train_abstract.append(\"NA\")\n",
    "        try:\n",
    "            tran_category.append(data['categories'])\n",
    "        except:\n",
    "            tran_category.append('NA')\n",
    "    except:\n",
    "        continue"
   ]
  },
  {
   "cell_type": "code",
   "execution_count": 6,
   "metadata": {},
   "outputs": [
    {
     "data": {
      "text/plain": [
       "43972"
      ]
     },
     "execution_count": 6,
     "metadata": {},
     "output_type": "execute_result"
    }
   ],
   "source": [
    "len(train_abstract)"
   ]
  },
  {
   "cell_type": "code",
   "execution_count": 7,
   "metadata": {},
   "outputs": [
    {
     "data": {
      "text/plain": [
       "43972"
      ]
     },
     "execution_count": 7,
     "metadata": {},
     "output_type": "execute_result"
    }
   ],
   "source": [
    "len(tran_category)"
   ]
  },
  {
   "cell_type": "code",
   "execution_count": 8,
   "metadata": {},
   "outputs": [],
   "source": [
    "## create dataframe from processed json file\n",
    "df_train = pd.DataFrame()\n",
    "df_train['abstract'] = train_abstract\n",
    "df_train['categories'] = tran_category"
   ]
  },
  {
   "cell_type": "code",
   "execution_count": 9,
   "metadata": {},
   "outputs": [
    {
     "data": {
      "text/html": [
       "<div>\n",
       "<style scoped>\n",
       "    .dataframe tbody tr th:only-of-type {\n",
       "        vertical-align: middle;\n",
       "    }\n",
       "\n",
       "    .dataframe tbody tr th {\n",
       "        vertical-align: top;\n",
       "    }\n",
       "\n",
       "    .dataframe thead th {\n",
       "        text-align: right;\n",
       "    }\n",
       "</style>\n",
       "<table border=\"1\" class=\"dataframe\">\n",
       "  <thead>\n",
       "    <tr style=\"text-align: right;\">\n",
       "      <th></th>\n",
       "      <th>abstract</th>\n",
       "      <th>categories</th>\n",
       "    </tr>\n",
       "  </thead>\n",
       "  <tbody>\n",
       "    <tr>\n",
       "      <th>0</th>\n",
       "      <td>The liver is a tolerogenic environment exploit...</td>\n",
       "      <td>Animal Diseases</td>\n",
       "    </tr>\n",
       "    <tr>\n",
       "      <th>1</th>\n",
       "      <td>Hyperbaric oxygen (HBO) therapy is an effectiv...</td>\n",
       "      <td>Animal Diseases</td>\n",
       "    </tr>\n",
       "    <tr>\n",
       "      <th>2</th>\n",
       "      <td>Several lines of evidence support the involvem...</td>\n",
       "      <td>Animal Diseases</td>\n",
       "    </tr>\n",
       "    <tr>\n",
       "      <th>3</th>\n",
       "      <td>Statins are 3-hydroxy-3-methylglutaryl coenzym...</td>\n",
       "      <td>Animal Diseases</td>\n",
       "    </tr>\n",
       "    <tr>\n",
       "      <th>4</th>\n",
       "      <td>In order to elucidate the involvement of melan...</td>\n",
       "      <td>Animal Diseases</td>\n",
       "    </tr>\n",
       "  </tbody>\n",
       "</table>\n",
       "</div>"
      ],
      "text/plain": [
       "                                            abstract       categories\n",
       "0  The liver is a tolerogenic environment exploit...  Animal Diseases\n",
       "1  Hyperbaric oxygen (HBO) therapy is an effectiv...  Animal Diseases\n",
       "2  Several lines of evidence support the involvem...  Animal Diseases\n",
       "3  Statins are 3-hydroxy-3-methylglutaryl coenzym...  Animal Diseases\n",
       "4  In order to elucidate the involvement of melan...  Animal Diseases"
      ]
     },
     "execution_count": 9,
     "metadata": {},
     "output_type": "execute_result"
    }
   ],
   "source": [
    "df_train.head()"
   ]
  },
  {
   "cell_type": "code",
   "execution_count": 28,
   "metadata": {},
   "outputs": [
    {
     "data": {
      "text/html": [
       "<div>\n",
       "<style scoped>\n",
       "    .dataframe tbody tr th:only-of-type {\n",
       "        vertical-align: middle;\n",
       "    }\n",
       "\n",
       "    .dataframe tbody tr th {\n",
       "        vertical-align: top;\n",
       "    }\n",
       "\n",
       "    .dataframe thead th {\n",
       "        text-align: right;\n",
       "    }\n",
       "</style>\n",
       "<table border=\"1\" class=\"dataframe\">\n",
       "  <thead>\n",
       "    <tr style=\"text-align: right;\">\n",
       "      <th></th>\n",
       "      <th>abstract</th>\n",
       "      <th>categories</th>\n",
       "    </tr>\n",
       "  </thead>\n",
       "  <tbody>\n",
       "  </tbody>\n",
       "</table>\n",
       "</div>"
      ],
      "text/plain": [
       "Empty DataFrame\n",
       "Columns: [abstract, categories]\n",
       "Index: []"
      ]
     },
     "execution_count": 28,
     "metadata": {},
     "output_type": "execute_result"
    }
   ],
   "source": [
    "### check for corrputed record\n",
    "df_train[df_train['abstract']=='NA']"
   ]
  },
  {
   "cell_type": "code",
   "execution_count": 29,
   "metadata": {},
   "outputs": [
    {
     "data": {
      "text/html": [
       "<div>\n",
       "<style scoped>\n",
       "    .dataframe tbody tr th:only-of-type {\n",
       "        vertical-align: middle;\n",
       "    }\n",
       "\n",
       "    .dataframe tbody tr th {\n",
       "        vertical-align: top;\n",
       "    }\n",
       "\n",
       "    .dataframe thead th {\n",
       "        text-align: right;\n",
       "    }\n",
       "</style>\n",
       "<table border=\"1\" class=\"dataframe\">\n",
       "  <thead>\n",
       "    <tr style=\"text-align: right;\">\n",
       "      <th></th>\n",
       "      <th>abstract</th>\n",
       "      <th>categories</th>\n",
       "    </tr>\n",
       "  </thead>\n",
       "  <tbody>\n",
       "  </tbody>\n",
       "</table>\n",
       "</div>"
      ],
      "text/plain": [
       "Empty DataFrame\n",
       "Columns: [abstract, categories]\n",
       "Index: []"
      ]
     },
     "execution_count": 29,
     "metadata": {},
     "output_type": "execute_result"
    }
   ],
   "source": [
    "df_train[df_train['categories']=='NA']"
   ]
  },
  {
   "cell_type": "code",
   "execution_count": 30,
   "metadata": {},
   "outputs": [
    {
     "data": {
      "text/plain": [
       "Digestive System Diseases                                        4229\n",
       "Bacterial Infections and Mycoses                                 4182\n",
       "Wounds and Injuries                                              4086\n",
       "Animal Diseases                                                  3573\n",
       "Male Urogenital Diseases                                         3431\n",
       "Endocrine System Diseases                                        3143\n",
       "Congenital Hereditary and Neonatal Diseases and Abnormalities    3101\n",
       "Hemic and Lymphatic Diseases                                     2547\n",
       "Neoplasms                                                        2231\n",
       "Chemically-Induced Disorders                                     2145\n",
       "Stomatognathic Diseases                                          1553\n",
       "Respiratory Tract Diseases                                       1407\n",
       "Parasitic Diseases                                               1370\n",
       "Eye Diseases                                                     1356\n",
       "Pathological Conditions and Signs and Symptoms                   1185\n",
       "Otorhinolaryngologic Diseases                                     941\n",
       "Nutritional and Metabolic Diseases                                754\n",
       "Cardiovascular Diseases                                           699\n",
       "Female Urogenital Diseases and Pregnancy Complications            438\n",
       "Nervous System Diseases                                           407\n",
       "Virus Diseases                                                    376\n",
       "Occupational Diseases                                             274\n",
       "Musculoskeletal Diseases                                          236\n",
       "Immune System Diseases                                            148\n",
       "Skin and Connective Tissue Diseases                               142\n",
       "Disorders of Environmental Origin                                  18\n",
       "Name: categories, dtype: int64"
      ]
     },
     "execution_count": 30,
     "metadata": {},
     "output_type": "execute_result"
    }
   ],
   "source": [
    "### check Cardinality ration of output variable\n",
    "df_train['categories'].value_counts()"
   ]
  },
  {
   "cell_type": "code",
   "execution_count": 31,
   "metadata": {},
   "outputs": [
    {
     "data": {
      "text/plain": [
       "(43972, 2)"
      ]
     },
     "execution_count": 31,
     "metadata": {},
     "output_type": "execute_result"
    }
   ],
   "source": [
    "df_train.shape"
   ]
  },
  {
   "cell_type": "code",
   "execution_count": 18,
   "metadata": {},
   "outputs": [
    {
     "data": {
      "text/plain": [
       "abstract      0\n",
       "categories    0\n",
       "dtype: int64"
      ]
     },
     "execution_count": 18,
     "metadata": {},
     "output_type": "execute_result"
    }
   ],
   "source": [
    "## check for null values\n",
    "df_train.isnull().sum()"
   ]
  },
  {
   "cell_type": "code",
   "execution_count": 20,
   "metadata": {},
   "outputs": [
    {
     "data": {
      "text/html": [
       "<div>\n",
       "<style scoped>\n",
       "    .dataframe tbody tr th:only-of-type {\n",
       "        vertical-align: middle;\n",
       "    }\n",
       "\n",
       "    .dataframe tbody tr th {\n",
       "        vertical-align: top;\n",
       "    }\n",
       "\n",
       "    .dataframe thead th {\n",
       "        text-align: right;\n",
       "    }\n",
       "</style>\n",
       "<table border=\"1\" class=\"dataframe\">\n",
       "  <thead>\n",
       "    <tr style=\"text-align: right;\">\n",
       "      <th></th>\n",
       "      <th>abstract</th>\n",
       "      <th>categories</th>\n",
       "    </tr>\n",
       "  </thead>\n",
       "  <tbody>\n",
       "    <tr>\n",
       "      <th>6412</th>\n",
       "      <td></td>\n",
       "      <td>Bacterial Infections and Mycoses</td>\n",
       "    </tr>\n",
       "    <tr>\n",
       "      <th>8411</th>\n",
       "      <td></td>\n",
       "      <td>Chemically-Induced Disorders</td>\n",
       "    </tr>\n",
       "    <tr>\n",
       "      <th>9356</th>\n",
       "      <td></td>\n",
       "      <td>Chemically-Induced Disorders</td>\n",
       "    </tr>\n",
       "    <tr>\n",
       "      <th>10227</th>\n",
       "      <td></td>\n",
       "      <td>Congenital Hereditary and Neonatal Diseases an...</td>\n",
       "    </tr>\n",
       "    <tr>\n",
       "      <th>15527</th>\n",
       "      <td></td>\n",
       "      <td>Digestive System Diseases</td>\n",
       "    </tr>\n",
       "    <tr>\n",
       "      <th>18100</th>\n",
       "      <td></td>\n",
       "      <td>Endocrine System Diseases</td>\n",
       "    </tr>\n",
       "    <tr>\n",
       "      <th>20633</th>\n",
       "      <td></td>\n",
       "      <td>Eye Diseases</td>\n",
       "    </tr>\n",
       "    <tr>\n",
       "      <th>22340</th>\n",
       "      <td></td>\n",
       "      <td>Hemic and Lymphatic Diseases</td>\n",
       "    </tr>\n",
       "    <tr>\n",
       "      <th>22455</th>\n",
       "      <td></td>\n",
       "      <td>Hemic and Lymphatic Diseases</td>\n",
       "    </tr>\n",
       "    <tr>\n",
       "      <th>22497</th>\n",
       "      <td></td>\n",
       "      <td>Hemic and Lymphatic Diseases</td>\n",
       "    </tr>\n",
       "    <tr>\n",
       "      <th>22544</th>\n",
       "      <td></td>\n",
       "      <td>Hemic and Lymphatic Diseases</td>\n",
       "    </tr>\n",
       "    <tr>\n",
       "      <th>22617</th>\n",
       "      <td></td>\n",
       "      <td>Hemic and Lymphatic Diseases</td>\n",
       "    </tr>\n",
       "    <tr>\n",
       "      <th>22703</th>\n",
       "      <td></td>\n",
       "      <td>Hemic and Lymphatic Diseases</td>\n",
       "    </tr>\n",
       "    <tr>\n",
       "      <th>22781</th>\n",
       "      <td></td>\n",
       "      <td>Hemic and Lymphatic Diseases</td>\n",
       "    </tr>\n",
       "    <tr>\n",
       "      <th>22799</th>\n",
       "      <td></td>\n",
       "      <td>Hemic and Lymphatic Diseases</td>\n",
       "    </tr>\n",
       "    <tr>\n",
       "      <th>22803</th>\n",
       "      <td></td>\n",
       "      <td>Hemic and Lymphatic Diseases</td>\n",
       "    </tr>\n",
       "    <tr>\n",
       "      <th>22973</th>\n",
       "      <td></td>\n",
       "      <td>Hemic and Lymphatic Diseases</td>\n",
       "    </tr>\n",
       "    <tr>\n",
       "      <th>22974</th>\n",
       "      <td></td>\n",
       "      <td>Hemic and Lymphatic Diseases</td>\n",
       "    </tr>\n",
       "    <tr>\n",
       "      <th>23002</th>\n",
       "      <td></td>\n",
       "      <td>Hemic and Lymphatic Diseases</td>\n",
       "    </tr>\n",
       "    <tr>\n",
       "      <th>23225</th>\n",
       "      <td></td>\n",
       "      <td>Hemic and Lymphatic Diseases</td>\n",
       "    </tr>\n",
       "    <tr>\n",
       "      <th>23232</th>\n",
       "      <td></td>\n",
       "      <td>Hemic and Lymphatic Diseases</td>\n",
       "    </tr>\n",
       "    <tr>\n",
       "      <th>23264</th>\n",
       "      <td></td>\n",
       "      <td>Hemic and Lymphatic Diseases</td>\n",
       "    </tr>\n",
       "    <tr>\n",
       "      <th>23266</th>\n",
       "      <td></td>\n",
       "      <td>Hemic and Lymphatic Diseases</td>\n",
       "    </tr>\n",
       "    <tr>\n",
       "      <th>23267</th>\n",
       "      <td></td>\n",
       "      <td>Hemic and Lymphatic Diseases</td>\n",
       "    </tr>\n",
       "    <tr>\n",
       "      <th>23328</th>\n",
       "      <td></td>\n",
       "      <td>Hemic and Lymphatic Diseases</td>\n",
       "    </tr>\n",
       "    <tr>\n",
       "      <th>23396</th>\n",
       "      <td></td>\n",
       "      <td>Hemic and Lymphatic Diseases</td>\n",
       "    </tr>\n",
       "    <tr>\n",
       "      <th>23405</th>\n",
       "      <td></td>\n",
       "      <td>Hemic and Lymphatic Diseases</td>\n",
       "    </tr>\n",
       "    <tr>\n",
       "      <th>23442</th>\n",
       "      <td></td>\n",
       "      <td>Hemic and Lymphatic Diseases</td>\n",
       "    </tr>\n",
       "    <tr>\n",
       "      <th>23443</th>\n",
       "      <td></td>\n",
       "      <td>Hemic and Lymphatic Diseases</td>\n",
       "    </tr>\n",
       "    <tr>\n",
       "      <th>23567</th>\n",
       "      <td></td>\n",
       "      <td>Hemic and Lymphatic Diseases</td>\n",
       "    </tr>\n",
       "    <tr>\n",
       "      <th>23711</th>\n",
       "      <td></td>\n",
       "      <td>Hemic and Lymphatic Diseases</td>\n",
       "    </tr>\n",
       "    <tr>\n",
       "      <th>23991</th>\n",
       "      <td></td>\n",
       "      <td>Hemic and Lymphatic Diseases</td>\n",
       "    </tr>\n",
       "    <tr>\n",
       "      <th>24237</th>\n",
       "      <td></td>\n",
       "      <td>Hemic and Lymphatic Diseases</td>\n",
       "    </tr>\n",
       "    <tr>\n",
       "      <th>24405</th>\n",
       "      <td></td>\n",
       "      <td>Hemic and Lymphatic Diseases</td>\n",
       "    </tr>\n",
       "    <tr>\n",
       "      <th>24406</th>\n",
       "      <td></td>\n",
       "      <td>Hemic and Lymphatic Diseases</td>\n",
       "    </tr>\n",
       "    <tr>\n",
       "      <th>24413</th>\n",
       "      <td></td>\n",
       "      <td>Hemic and Lymphatic Diseases</td>\n",
       "    </tr>\n",
       "    <tr>\n",
       "      <th>24421</th>\n",
       "      <td></td>\n",
       "      <td>Hemic and Lymphatic Diseases</td>\n",
       "    </tr>\n",
       "    <tr>\n",
       "      <th>24428</th>\n",
       "      <td></td>\n",
       "      <td>Hemic and Lymphatic Diseases</td>\n",
       "    </tr>\n",
       "    <tr>\n",
       "      <th>24469</th>\n",
       "      <td></td>\n",
       "      <td>Hemic and Lymphatic Diseases</td>\n",
       "    </tr>\n",
       "    <tr>\n",
       "      <th>24511</th>\n",
       "      <td></td>\n",
       "      <td>Hemic and Lymphatic Diseases</td>\n",
       "    </tr>\n",
       "    <tr>\n",
       "      <th>24514</th>\n",
       "      <td></td>\n",
       "      <td>Hemic and Lymphatic Diseases</td>\n",
       "    </tr>\n",
       "    <tr>\n",
       "      <th>24745</th>\n",
       "      <td></td>\n",
       "      <td>Hemic and Lymphatic Diseases</td>\n",
       "    </tr>\n",
       "    <tr>\n",
       "      <th>24783</th>\n",
       "      <td></td>\n",
       "      <td>Hemic and Lymphatic Diseases</td>\n",
       "    </tr>\n",
       "    <tr>\n",
       "      <th>26250</th>\n",
       "      <td></td>\n",
       "      <td>Male Urogenital Diseases</td>\n",
       "    </tr>\n",
       "    <tr>\n",
       "      <th>27927</th>\n",
       "      <td></td>\n",
       "      <td>Male Urogenital Diseases</td>\n",
       "    </tr>\n",
       "    <tr>\n",
       "      <th>29721</th>\n",
       "      <td></td>\n",
       "      <td>Neoplasms</td>\n",
       "    </tr>\n",
       "    <tr>\n",
       "      <th>29992</th>\n",
       "      <td></td>\n",
       "      <td>Neoplasms</td>\n",
       "    </tr>\n",
       "    <tr>\n",
       "      <th>30209</th>\n",
       "      <td></td>\n",
       "      <td>Neoplasms</td>\n",
       "    </tr>\n",
       "    <tr>\n",
       "      <th>31243</th>\n",
       "      <td></td>\n",
       "      <td>Nutritional and Metabolic Diseases</td>\n",
       "    </tr>\n",
       "    <tr>\n",
       "      <th>31591</th>\n",
       "      <td></td>\n",
       "      <td>Nutritional and Metabolic Diseases</td>\n",
       "    </tr>\n",
       "    <tr>\n",
       "      <th>31763</th>\n",
       "      <td></td>\n",
       "      <td>Nutritional and Metabolic Diseases</td>\n",
       "    </tr>\n",
       "    <tr>\n",
       "      <th>32407</th>\n",
       "      <td></td>\n",
       "      <td>Otorhinolaryngologic Diseases</td>\n",
       "    </tr>\n",
       "    <tr>\n",
       "      <th>34791</th>\n",
       "      <td></td>\n",
       "      <td>Stomatognathic Diseases</td>\n",
       "    </tr>\n",
       "    <tr>\n",
       "      <th>38787</th>\n",
       "      <td></td>\n",
       "      <td>Virus Diseases</td>\n",
       "    </tr>\n",
       "    <tr>\n",
       "      <th>39067</th>\n",
       "      <td></td>\n",
       "      <td>Virus Diseases</td>\n",
       "    </tr>\n",
       "    <tr>\n",
       "      <th>43649</th>\n",
       "      <td></td>\n",
       "      <td>Skin and Connective Tissue Diseases</td>\n",
       "    </tr>\n",
       "  </tbody>\n",
       "</table>\n",
       "</div>"
      ],
      "text/plain": [
       "      abstract                                         categories\n",
       "6412                             Bacterial Infections and Mycoses\n",
       "8411                                 Chemically-Induced Disorders\n",
       "9356                                 Chemically-Induced Disorders\n",
       "10227           Congenital Hereditary and Neonatal Diseases an...\n",
       "15527                                   Digestive System Diseases\n",
       "18100                                   Endocrine System Diseases\n",
       "20633                                                Eye Diseases\n",
       "22340                                Hemic and Lymphatic Diseases\n",
       "22455                                Hemic and Lymphatic Diseases\n",
       "22497                                Hemic and Lymphatic Diseases\n",
       "22544                                Hemic and Lymphatic Diseases\n",
       "22617                                Hemic and Lymphatic Diseases\n",
       "22703                                Hemic and Lymphatic Diseases\n",
       "22781                                Hemic and Lymphatic Diseases\n",
       "22799                                Hemic and Lymphatic Diseases\n",
       "22803                                Hemic and Lymphatic Diseases\n",
       "22973                                Hemic and Lymphatic Diseases\n",
       "22974                                Hemic and Lymphatic Diseases\n",
       "23002                                Hemic and Lymphatic Diseases\n",
       "23225                                Hemic and Lymphatic Diseases\n",
       "23232                                Hemic and Lymphatic Diseases\n",
       "23264                                Hemic and Lymphatic Diseases\n",
       "23266                                Hemic and Lymphatic Diseases\n",
       "23267                                Hemic and Lymphatic Diseases\n",
       "23328                                Hemic and Lymphatic Diseases\n",
       "23396                                Hemic and Lymphatic Diseases\n",
       "23405                                Hemic and Lymphatic Diseases\n",
       "23442                                Hemic and Lymphatic Diseases\n",
       "23443                                Hemic and Lymphatic Diseases\n",
       "23567                                Hemic and Lymphatic Diseases\n",
       "23711                                Hemic and Lymphatic Diseases\n",
       "23991                                Hemic and Lymphatic Diseases\n",
       "24237                                Hemic and Lymphatic Diseases\n",
       "24405                                Hemic and Lymphatic Diseases\n",
       "24406                                Hemic and Lymphatic Diseases\n",
       "24413                                Hemic and Lymphatic Diseases\n",
       "24421                                Hemic and Lymphatic Diseases\n",
       "24428                                Hemic and Lymphatic Diseases\n",
       "24469                                Hemic and Lymphatic Diseases\n",
       "24511                                Hemic and Lymphatic Diseases\n",
       "24514                                Hemic and Lymphatic Diseases\n",
       "24745                                Hemic and Lymphatic Diseases\n",
       "24783                                Hemic and Lymphatic Diseases\n",
       "26250                                    Male Urogenital Diseases\n",
       "27927                                    Male Urogenital Diseases\n",
       "29721                                                   Neoplasms\n",
       "29992                                                   Neoplasms\n",
       "30209                                                   Neoplasms\n",
       "31243                          Nutritional and Metabolic Diseases\n",
       "31591                          Nutritional and Metabolic Diseases\n",
       "31763                          Nutritional and Metabolic Diseases\n",
       "32407                               Otorhinolaryngologic Diseases\n",
       "34791                                     Stomatognathic Diseases\n",
       "38787                                              Virus Diseases\n",
       "39067                                              Virus Diseases\n",
       "43649                         Skin and Connective Tissue Diseases"
      ]
     },
     "execution_count": 20,
     "metadata": {},
     "output_type": "execute_result"
    }
   ],
   "source": [
    "## check for empty strings\n",
    "df_train[df_train['abstract']=='']"
   ]
  },
  {
   "cell_type": "code",
   "execution_count": 23,
   "metadata": {},
   "outputs": [],
   "source": [
    "## remove empty strings from training dataset\n",
    "df_train = df_train[df_train['abstract']!='']"
   ]
  },
  {
   "cell_type": "code",
   "execution_count": 24,
   "metadata": {},
   "outputs": [
    {
     "data": {
      "text/plain": [
       "(43916, 2)"
      ]
     },
     "execution_count": 24,
     "metadata": {},
     "output_type": "execute_result"
    }
   ],
   "source": [
    "df_train.shape"
   ]
  },
  {
   "cell_type": "code",
   "execution_count": 25,
   "metadata": {},
   "outputs": [
    {
     "data": {
      "text/html": [
       "<div>\n",
       "<style scoped>\n",
       "    .dataframe tbody tr th:only-of-type {\n",
       "        vertical-align: middle;\n",
       "    }\n",
       "\n",
       "    .dataframe tbody tr th {\n",
       "        vertical-align: top;\n",
       "    }\n",
       "\n",
       "    .dataframe thead th {\n",
       "        text-align: right;\n",
       "    }\n",
       "</style>\n",
       "<table border=\"1\" class=\"dataframe\">\n",
       "  <thead>\n",
       "    <tr style=\"text-align: right;\">\n",
       "      <th></th>\n",
       "      <th>abstract</th>\n",
       "      <th>categories</th>\n",
       "    </tr>\n",
       "  </thead>\n",
       "  <tbody>\n",
       "    <tr>\n",
       "      <th>0</th>\n",
       "      <td>The liver is a tolerogenic environment exploit...</td>\n",
       "      <td>Animal Diseases</td>\n",
       "    </tr>\n",
       "    <tr>\n",
       "      <th>1</th>\n",
       "      <td>Hyperbaric oxygen (HBO) therapy is an effectiv...</td>\n",
       "      <td>Animal Diseases</td>\n",
       "    </tr>\n",
       "    <tr>\n",
       "      <th>2</th>\n",
       "      <td>Several lines of evidence support the involvem...</td>\n",
       "      <td>Animal Diseases</td>\n",
       "    </tr>\n",
       "    <tr>\n",
       "      <th>3</th>\n",
       "      <td>Statins are 3-hydroxy-3-methylglutaryl coenzym...</td>\n",
       "      <td>Animal Diseases</td>\n",
       "    </tr>\n",
       "    <tr>\n",
       "      <th>4</th>\n",
       "      <td>In order to elucidate the involvement of melan...</td>\n",
       "      <td>Animal Diseases</td>\n",
       "    </tr>\n",
       "  </tbody>\n",
       "</table>\n",
       "</div>"
      ],
      "text/plain": [
       "                                            abstract       categories\n",
       "0  The liver is a tolerogenic environment exploit...  Animal Diseases\n",
       "1  Hyperbaric oxygen (HBO) therapy is an effectiv...  Animal Diseases\n",
       "2  Several lines of evidence support the involvem...  Animal Diseases\n",
       "3  Statins are 3-hydroxy-3-methylglutaryl coenzym...  Animal Diseases\n",
       "4  In order to elucidate the involvement of melan...  Animal Diseases"
      ]
     },
     "execution_count": 25,
     "metadata": {},
     "output_type": "execute_result"
    }
   ],
   "source": [
    "df_train.head()"
   ]
  },
  {
   "cell_type": "code",
   "execution_count": 27,
   "metadata": {},
   "outputs": [],
   "source": [
    "### store the processed training file into disk\n",
    "df_train.to_csv('D:/lily/train.csv',index=False)"
   ]
  },
  {
   "cell_type": "markdown",
   "metadata": {},
   "source": [
    "## Processing of test dataset"
   ]
  },
  {
   "cell_type": "code",
   "execution_count": 35,
   "metadata": {},
   "outputs": [
    {
     "data": {
      "text/plain": [
       "\"Porcine reproductive and respiratory syndrome virus (PRRSV) is wide-spread in pig populations globally. In many regions of Europe with intensive pig production and high herd densities, the virus is endemic and can cause disease and production losses. This fuels discussion about the feasibility and sustainability of virus elimination from larger geographic regions. The implementation of a program aiming at virus elimination for areas with high pig density is unprecedented and its potential success is unknown. The objective of this work was to approach pig population data with a simple method that could support assessing the feasibility of a sustainable regional PRRSV elimination. Based on known risk factors such as pig herd structure and neighborhood conditions, an index characterizing individual herds' potential for endemic virus circulation and reinfection was designed. This index was subsequently used to compare data of all pig herds in two regions with different pig- and herd-densities in Lower Saxony (North-West Germany) where PRRSV is endemic. Distribution of the indexed herds was displayed using GIS. Clusters of high herd index densities forming potential risk hot spots were identified which could represent key target areas for surveillance and biosecurity measures under a control program aimed at virus elimination. In an additional step, for the study region with the higher pig density (2463 pigs/km(2) farmland), the potential distribution of PRRSV-free and non-free herds during the implementation of a national control program aiming at national virus elimination was modeled. Complex herd and trade network structures suggest that PRRSV elimination in regions with intensive pig farming like that of middle Europe would have to involve legal regulation and be accompanied by important trade and animal movement restrictions. The proposed methodology of risk index mapping could be adapted to areas varying in size, herd structure and density. Interpreted in the regional context, this could help to classify the density of risk and to accordingly target resources and measures for elimination. \""
      ]
     },
     "execution_count": 35,
     "metadata": {},
     "output_type": "execute_result"
    }
   ],
   "source": [
    "with open('C:/Users/win10/Downloads/UVigoMED/UVigoMED/single_label/test/10049.json') as f:\n",
    "  data = json.load(f)\n",
    "data['abstract']"
   ]
  },
  {
   "cell_type": "code",
   "execution_count": null,
   "metadata": {},
   "outputs": [],
   "source": [
    "test_abstract = []\n",
    "test_category = []\n",
    "test_files = listdir(test_path)\n",
    "\n",
    "for file in test_files:\n",
    "    try:\n",
    "        with open(test_path+file,encoding='utf8') as f:\n",
    "            data = json.loads(f.read())\n",
    "        try:\n",
    "            test_abstract.append(data['abstract'])\n",
    "        except:\n",
    "            test_abstract.append(\"NA\")\n",
    "        try:\n",
    "            test_category.append(data['categories'])\n",
    "        except:\n",
    "            test_category.append('NA')\n",
    "    except:\n",
    "        continue\n",
    "        \n",
    "df_test = pd.DataFrame()\n",
    "df_test['abstract'] = test_abstract\n",
    "df_test['categories'] = test_category"
   ]
  },
  {
   "cell_type": "code",
   "execution_count": 29,
   "metadata": {},
   "outputs": [
    {
     "data": {
      "text/plain": [
       "10873"
      ]
     },
     "execution_count": 29,
     "metadata": {},
     "output_type": "execute_result"
    }
   ],
   "source": [
    "len(test_abstract)"
   ]
  },
  {
   "cell_type": "code",
   "execution_count": 30,
   "metadata": {},
   "outputs": [
    {
     "data": {
      "text/plain": [
       "10873"
      ]
     },
     "execution_count": 30,
     "metadata": {},
     "output_type": "execute_result"
    }
   ],
   "source": [
    "len(test_category)"
   ]
  },
  {
   "cell_type": "code",
   "execution_count": 31,
   "metadata": {},
   "outputs": [
    {
     "data": {
      "text/html": [
       "<div>\n",
       "<style scoped>\n",
       "    .dataframe tbody tr th:only-of-type {\n",
       "        vertical-align: middle;\n",
       "    }\n",
       "\n",
       "    .dataframe tbody tr th {\n",
       "        vertical-align: top;\n",
       "    }\n",
       "\n",
       "    .dataframe thead th {\n",
       "        text-align: right;\n",
       "    }\n",
       "</style>\n",
       "<table border=\"1\" class=\"dataframe\">\n",
       "  <thead>\n",
       "    <tr style=\"text-align: right;\">\n",
       "      <th></th>\n",
       "      <th>abstract</th>\n",
       "      <th>categories</th>\n",
       "    </tr>\n",
       "  </thead>\n",
       "  <tbody>\n",
       "    <tr>\n",
       "      <th>0</th>\n",
       "      <td>Reactive oxygen species (ROS) and pro-inflamma...</td>\n",
       "      <td>Animal Diseases</td>\n",
       "    </tr>\n",
       "    <tr>\n",
       "      <th>1</th>\n",
       "      <td>Porcine reproductive and respiratory syndrome ...</td>\n",
       "      <td>Animal Diseases</td>\n",
       "    </tr>\n",
       "    <tr>\n",
       "      <th>2</th>\n",
       "      <td>This study was designed to evaluate the antino...</td>\n",
       "      <td>Animal Diseases</td>\n",
       "    </tr>\n",
       "    <tr>\n",
       "      <th>3</th>\n",
       "      <td>This investigation aimed to determine if there...</td>\n",
       "      <td>Animal Diseases</td>\n",
       "    </tr>\n",
       "    <tr>\n",
       "      <th>4</th>\n",
       "      <td>To evaluate the level of biosecurity training ...</td>\n",
       "      <td>Animal Diseases</td>\n",
       "    </tr>\n",
       "  </tbody>\n",
       "</table>\n",
       "</div>"
      ],
      "text/plain": [
       "                                            abstract       categories\n",
       "0  Reactive oxygen species (ROS) and pro-inflamma...  Animal Diseases\n",
       "1  Porcine reproductive and respiratory syndrome ...  Animal Diseases\n",
       "2  This study was designed to evaluate the antino...  Animal Diseases\n",
       "3  This investigation aimed to determine if there...  Animal Diseases\n",
       "4  To evaluate the level of biosecurity training ...  Animal Diseases"
      ]
     },
     "execution_count": 31,
     "metadata": {},
     "output_type": "execute_result"
    }
   ],
   "source": [
    "df_test.head()"
   ]
  },
  {
   "cell_type": "code",
   "execution_count": 36,
   "metadata": {},
   "outputs": [
    {
     "data": {
      "text/html": [
       "<div>\n",
       "<style scoped>\n",
       "    .dataframe tbody tr th:only-of-type {\n",
       "        vertical-align: middle;\n",
       "    }\n",
       "\n",
       "    .dataframe tbody tr th {\n",
       "        vertical-align: top;\n",
       "    }\n",
       "\n",
       "    .dataframe thead th {\n",
       "        text-align: right;\n",
       "    }\n",
       "</style>\n",
       "<table border=\"1\" class=\"dataframe\">\n",
       "  <thead>\n",
       "    <tr style=\"text-align: right;\">\n",
       "      <th></th>\n",
       "      <th>abstract</th>\n",
       "      <th>categories</th>\n",
       "    </tr>\n",
       "  </thead>\n",
       "  <tbody>\n",
       "  </tbody>\n",
       "</table>\n",
       "</div>"
      ],
      "text/plain": [
       "Empty DataFrame\n",
       "Columns: [abstract, categories]\n",
       "Index: []"
      ]
     },
     "execution_count": 36,
     "metadata": {},
     "output_type": "execute_result"
    }
   ],
   "source": [
    "## check for corrupted records\n",
    "df_test[df_test['abstract']=='NA']"
   ]
  },
  {
   "cell_type": "code",
   "execution_count": 37,
   "metadata": {},
   "outputs": [
    {
     "data": {
      "text/html": [
       "<div>\n",
       "<style scoped>\n",
       "    .dataframe tbody tr th:only-of-type {\n",
       "        vertical-align: middle;\n",
       "    }\n",
       "\n",
       "    .dataframe tbody tr th {\n",
       "        vertical-align: top;\n",
       "    }\n",
       "\n",
       "    .dataframe thead th {\n",
       "        text-align: right;\n",
       "    }\n",
       "</style>\n",
       "<table border=\"1\" class=\"dataframe\">\n",
       "  <thead>\n",
       "    <tr style=\"text-align: right;\">\n",
       "      <th></th>\n",
       "      <th>abstract</th>\n",
       "      <th>categories</th>\n",
       "    </tr>\n",
       "  </thead>\n",
       "  <tbody>\n",
       "  </tbody>\n",
       "</table>\n",
       "</div>"
      ],
      "text/plain": [
       "Empty DataFrame\n",
       "Columns: [abstract, categories]\n",
       "Index: []"
      ]
     },
     "execution_count": 37,
     "metadata": {},
     "output_type": "execute_result"
    }
   ],
   "source": [
    "df_test[df_test['categories']=='NA']"
   ]
  },
  {
   "cell_type": "code",
   "execution_count": 38,
   "metadata": {},
   "outputs": [
    {
     "data": {
      "text/plain": [
       "abstract      0\n",
       "categories    0\n",
       "dtype: int64"
      ]
     },
     "execution_count": 38,
     "metadata": {},
     "output_type": "execute_result"
    }
   ],
   "source": [
    "### check for null values\n",
    "df_test.isnull().sum()"
   ]
  },
  {
   "cell_type": "code",
   "execution_count": 39,
   "metadata": {},
   "outputs": [
    {
     "data": {
      "text/html": [
       "<div>\n",
       "<style scoped>\n",
       "    .dataframe tbody tr th:only-of-type {\n",
       "        vertical-align: middle;\n",
       "    }\n",
       "\n",
       "    .dataframe tbody tr th {\n",
       "        vertical-align: top;\n",
       "    }\n",
       "\n",
       "    .dataframe thead th {\n",
       "        text-align: right;\n",
       "    }\n",
       "</style>\n",
       "<table border=\"1\" class=\"dataframe\">\n",
       "  <thead>\n",
       "    <tr style=\"text-align: right;\">\n",
       "      <th></th>\n",
       "      <th>abstract</th>\n",
       "      <th>categories</th>\n",
       "    </tr>\n",
       "  </thead>\n",
       "  <tbody>\n",
       "    <tr>\n",
       "      <th>1736</th>\n",
       "      <td></td>\n",
       "      <td>Cardiovascular Diseases</td>\n",
       "    </tr>\n",
       "    <tr>\n",
       "      <th>2797</th>\n",
       "      <td></td>\n",
       "      <td>Congenital Hereditary and Neonatal Diseases an...</td>\n",
       "    </tr>\n",
       "    <tr>\n",
       "      <th>4818</th>\n",
       "      <td></td>\n",
       "      <td>Endocrine System Diseases</td>\n",
       "    </tr>\n",
       "    <tr>\n",
       "      <th>5563</th>\n",
       "      <td></td>\n",
       "      <td>Hemic and Lymphatic Diseases</td>\n",
       "    </tr>\n",
       "    <tr>\n",
       "      <th>5591</th>\n",
       "      <td></td>\n",
       "      <td>Hemic and Lymphatic Diseases</td>\n",
       "    </tr>\n",
       "    <tr>\n",
       "      <th>5630</th>\n",
       "      <td></td>\n",
       "      <td>Hemic and Lymphatic Diseases</td>\n",
       "    </tr>\n",
       "    <tr>\n",
       "      <th>5696</th>\n",
       "      <td></td>\n",
       "      <td>Hemic and Lymphatic Diseases</td>\n",
       "    </tr>\n",
       "    <tr>\n",
       "      <th>5851</th>\n",
       "      <td></td>\n",
       "      <td>Hemic and Lymphatic Diseases</td>\n",
       "    </tr>\n",
       "    <tr>\n",
       "      <th>5910</th>\n",
       "      <td></td>\n",
       "      <td>Hemic and Lymphatic Diseases</td>\n",
       "    </tr>\n",
       "    <tr>\n",
       "      <th>6649</th>\n",
       "      <td></td>\n",
       "      <td>Male Urogenital Diseases</td>\n",
       "    </tr>\n",
       "    <tr>\n",
       "      <th>7787</th>\n",
       "      <td></td>\n",
       "      <td>Nutritional and Metabolic Diseases</td>\n",
       "    </tr>\n",
       "  </tbody>\n",
       "</table>\n",
       "</div>"
      ],
      "text/plain": [
       "     abstract                                         categories\n",
       "1736                                     Cardiovascular Diseases\n",
       "2797           Congenital Hereditary and Neonatal Diseases an...\n",
       "4818                                   Endocrine System Diseases\n",
       "5563                                Hemic and Lymphatic Diseases\n",
       "5591                                Hemic and Lymphatic Diseases\n",
       "5630                                Hemic and Lymphatic Diseases\n",
       "5696                                Hemic and Lymphatic Diseases\n",
       "5851                                Hemic and Lymphatic Diseases\n",
       "5910                                Hemic and Lymphatic Diseases\n",
       "6649                                    Male Urogenital Diseases\n",
       "7787                          Nutritional and Metabolic Diseases"
      ]
     },
     "execution_count": 39,
     "metadata": {},
     "output_type": "execute_result"
    }
   ],
   "source": [
    "### check for empty strings\n",
    "df_test[df_test['abstract']=='']"
   ]
  },
  {
   "cell_type": "code",
   "execution_count": 41,
   "metadata": {},
   "outputs": [
    {
     "data": {
      "text/html": [
       "<div>\n",
       "<style scoped>\n",
       "    .dataframe tbody tr th:only-of-type {\n",
       "        vertical-align: middle;\n",
       "    }\n",
       "\n",
       "    .dataframe tbody tr th {\n",
       "        vertical-align: top;\n",
       "    }\n",
       "\n",
       "    .dataframe thead th {\n",
       "        text-align: right;\n",
       "    }\n",
       "</style>\n",
       "<table border=\"1\" class=\"dataframe\">\n",
       "  <thead>\n",
       "    <tr style=\"text-align: right;\">\n",
       "      <th></th>\n",
       "      <th>abstract</th>\n",
       "      <th>categories</th>\n",
       "    </tr>\n",
       "  </thead>\n",
       "  <tbody>\n",
       "  </tbody>\n",
       "</table>\n",
       "</div>"
      ],
      "text/plain": [
       "Empty DataFrame\n",
       "Columns: [abstract, categories]\n",
       "Index: []"
      ]
     },
     "execution_count": 41,
     "metadata": {},
     "output_type": "execute_result"
    }
   ],
   "source": [
    "df_test[df_test['categories']=='']"
   ]
  },
  {
   "cell_type": "code",
   "execution_count": 43,
   "metadata": {},
   "outputs": [],
   "source": [
    "## remove empty strings\n",
    "df_test = df_test[df_test['abstract']!='']"
   ]
  },
  {
   "cell_type": "code",
   "execution_count": 44,
   "metadata": {},
   "outputs": [
    {
     "data": {
      "text/plain": [
       "(10862, 2)"
      ]
     },
     "execution_count": 44,
     "metadata": {},
     "output_type": "execute_result"
    }
   ],
   "source": [
    "df_test.shape"
   ]
  },
  {
   "cell_type": "code",
   "execution_count": 45,
   "metadata": {},
   "outputs": [
    {
     "data": {
      "text/html": [
       "<div>\n",
       "<style scoped>\n",
       "    .dataframe tbody tr th:only-of-type {\n",
       "        vertical-align: middle;\n",
       "    }\n",
       "\n",
       "    .dataframe tbody tr th {\n",
       "        vertical-align: top;\n",
       "    }\n",
       "\n",
       "    .dataframe thead th {\n",
       "        text-align: right;\n",
       "    }\n",
       "</style>\n",
       "<table border=\"1\" class=\"dataframe\">\n",
       "  <thead>\n",
       "    <tr style=\"text-align: right;\">\n",
       "      <th></th>\n",
       "      <th>abstract</th>\n",
       "      <th>categories</th>\n",
       "    </tr>\n",
       "  </thead>\n",
       "  <tbody>\n",
       "    <tr>\n",
       "      <th>0</th>\n",
       "      <td>Reactive oxygen species (ROS) and pro-inflamma...</td>\n",
       "      <td>Animal Diseases</td>\n",
       "    </tr>\n",
       "    <tr>\n",
       "      <th>1</th>\n",
       "      <td>Porcine reproductive and respiratory syndrome ...</td>\n",
       "      <td>Animal Diseases</td>\n",
       "    </tr>\n",
       "    <tr>\n",
       "      <th>2</th>\n",
       "      <td>This study was designed to evaluate the antino...</td>\n",
       "      <td>Animal Diseases</td>\n",
       "    </tr>\n",
       "    <tr>\n",
       "      <th>3</th>\n",
       "      <td>This investigation aimed to determine if there...</td>\n",
       "      <td>Animal Diseases</td>\n",
       "    </tr>\n",
       "    <tr>\n",
       "      <th>4</th>\n",
       "      <td>To evaluate the level of biosecurity training ...</td>\n",
       "      <td>Animal Diseases</td>\n",
       "    </tr>\n",
       "  </tbody>\n",
       "</table>\n",
       "</div>"
      ],
      "text/plain": [
       "                                            abstract       categories\n",
       "0  Reactive oxygen species (ROS) and pro-inflamma...  Animal Diseases\n",
       "1  Porcine reproductive and respiratory syndrome ...  Animal Diseases\n",
       "2  This study was designed to evaluate the antino...  Animal Diseases\n",
       "3  This investigation aimed to determine if there...  Animal Diseases\n",
       "4  To evaluate the level of biosecurity training ...  Animal Diseases"
      ]
     },
     "execution_count": 45,
     "metadata": {},
     "output_type": "execute_result"
    }
   ],
   "source": [
    "df_test.head()"
   ]
  },
  {
   "cell_type": "code",
   "execution_count": 46,
   "metadata": {},
   "outputs": [],
   "source": [
    "### store the processed dataframe into disk\n",
    "df_test.to_csv('D:/lily/test.csv',index=False)"
   ]
  }
 ],
 "metadata": {
  "kernelspec": {
   "display_name": "Python 3",
   "language": "python",
   "name": "python3"
  },
  "language_info": {
   "codemirror_mode": {
    "name": "ipython",
    "version": 3
   },
   "file_extension": ".py",
   "mimetype": "text/x-python",
   "name": "python",
   "nbconvert_exporter": "python",
   "pygments_lexer": "ipython3",
   "version": "3.8.3"
  }
 },
 "nbformat": 4,
 "nbformat_minor": 4
}
